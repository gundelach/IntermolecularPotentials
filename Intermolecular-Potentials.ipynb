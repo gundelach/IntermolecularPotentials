{
 "cells": [
  {
   "cell_type": "markdown",
   "metadata": {},
   "source": [
    "# The Code Developed"
   ]
  },
  {
   "cell_type": "code",
   "execution_count": 1,
   "metadata": {},
   "outputs": [],
   "source": [
    "import pandas as pd\n",
    "import numpy as np\n",
    "import copy\n",
    "import matplotlib.pyplot as plt"
   ]
  },
  {
   "cell_type": "code",
   "execution_count": 2,
   "metadata": {},
   "outputs": [],
   "source": [
    "#introduce constants and conversion factors\n",
    "epsilon=8.8541 * 10**(-12) #C^2 J^−1 m^−1\n",
    "pi=3.14159\n",
    "debeye=3.33564 * 10**(-30) #C m\n",
    "angstrom=10**-10 #m\n",
    "hartree = 1/(4.359744650*(10**-18))#2.294 * 10**17 #J\n",
    "mu_0=1.855 * debeye\n",
    "R=2.5 * angstrom\n",
    "alpha_zz= 1.45 * angstrom**3 * 4 * pi * epsilon\n",
    "e=1.60217662 * 10**(-19) #C\n",
    "lj_epsilon=1.08 * 10**-21 #J\n",
    "lj_sigma=3.165 * angstrom"
   ]
  },
  {
   "cell_type": "code",
   "execution_count": 3,
   "metadata": {},
   "outputs": [],
   "source": [
    "def induced_field_si(R,mu,charge):\n",
    "    return (2*mu)/(4*pi*epsilon*(abs(R)**3))+(charge/(4*pi*epsilon*(abs(R)**2)))"
   ]
  },
  {
   "cell_type": "code",
   "execution_count": 4,
   "metadata": {},
   "outputs": [],
   "source": [
    "#Calculate electrostatic energy of each molecule from final converged dipoles\n",
    "def calc_electrostatic(mol_orig,R):\n",
    "    mol=copy.deepcopy(mol_orig)\n",
    "    for molecule in mol:\n",
    "            molecule[0]=molecule[0]*R\n",
    "\n",
    "    electrostatic_dipole_dipole=[0]*len(mol_orig)\n",
    "    electrostatic_charge_dipole=[0]*len(mol_orig)\n",
    "    \n",
    "    for index in range(0,len(mol)):\n",
    "                #create new list and remove current molecule\n",
    "                temp_mol=copy.deepcopy(mol)\n",
    "                \n",
    "                del temp_mol[:index+1]\n",
    "                total_force_change=0\n",
    "                total_charge_dipole=0\n",
    "                #loop over other molecules to find net force \n",
    "                for molecule in temp_mol:\n",
    "                    r_z=molecule[0]-mol[index][0] #calc seperation\n",
    "                    f_z=induced_field_si(abs(r_z),molecule[1],molecule[2]) #calc force\n",
    "                    total_force_change+=f_z #sum total force\n",
    "                    f_dot_r=f_z*r_z\n",
    "                    total_charge_dipole+=mol[index][2]*f_dot_r\n",
    "                    \n",
    "\n",
    "                #calc properties\n",
    "                electrostatic_dipole_dipole[index]= -total_force_change*mol[index][1]\n",
    "                electrostatic_charge_dipole[index]=total_charge_dipole\n",
    "    return sum(electrostatic_dipole_dipole)+sum(electrostatic_charge_dipole)"
   ]
  },
  {
   "cell_type": "code",
   "execution_count": 5,
   "metadata": {},
   "outputs": [],
   "source": [
    "def calc_induction(mol_orig,R,pol):\n",
    "    mol=copy.deepcopy(mol_orig)\n",
    "    for molecule in mol:\n",
    "        molecule[0]=molecule[0]*R\n",
    "    induction_energy=[0]*len(mol_orig)\n",
    "    for index in range(0,len(mol)):\n",
    "                if mol[index][1]==0:\n",
    "                    continue\n",
    "                    \n",
    "                #create new list and remove current molecule\n",
    "                temp_mol=copy.deepcopy(mol)\n",
    "                temp_mol.pop(index)\n",
    "                #del temp_mol[:index+1]\n",
    "                total_force_change=0\n",
    "                #loop over other molecules to find net force \n",
    "                for molecule in temp_mol:\n",
    "                    r_z=abs(molecule[0]-mol[index][0]) #calc seperation\n",
    "                    f_z=induced_field_si(r_z,molecule[1],molecule[2]) #calc force\n",
    "                    total_force_change+=f_z #sum total force\n",
    "\n",
    "                #calc properties\n",
    "                induction_energy[index]= -0.5*(total_force_change**2)*pol\n",
    "    return sum(induction_energy)"
   ]
  },
  {
   "cell_type": "code",
   "execution_count": 6,
   "metadata": {},
   "outputs": [],
   "source": [
    "def calc_lj_energy(mol_orig,R):\n",
    "    mol=copy.deepcopy(mol_orig)\n",
    "    for molecule in mol:\n",
    "            molecule[0]=molecule[0]*R\n",
    "    lj_energy=[0]*len(mol_orig)\n",
    "    for index in range(0,len(mol)):\n",
    "                #create new list and remove current molecule\n",
    "                temp_mol=copy.deepcopy(mol)\n",
    "                \n",
    "                del temp_mol[:index+1]\n",
    "                lj_e_molecule=0\n",
    "                #loop over other molecules to find net force \n",
    "                for molecule in temp_mol:\n",
    "                    r_z=molecule[0]-mol[index][0] #calc seperation\n",
    "                    lj_e_molecule+=4*lj_epsilon*((lj_sigma/abs(r_z))**12-(lj_sigma/abs(r_z))**6)\n",
    "\n",
    "                \n",
    "                lj_energy[index]=lj_e_molecule\n",
    "    return sum(lj_energy)\n",
    "    "
   ]
  },
  {
   "cell_type": "code",
   "execution_count": 7,
   "metadata": {},
   "outputs": [],
   "source": [
    "# Function to determine required enhance dipole\n",
    "def find_enhanced_dipole(mol_orig,mu_0,R,energy_target,threshold):\n",
    "    mol_new=copy.deepcopy(mol_orig)\n",
    "    #scale particle seperations by R\n",
    "    for molecule in mol_new:\n",
    "        molecule[0]=molecule[0]*R\n",
    "    mol_new=np.array(mol_new)\n",
    "    #set initial starting guess\n",
    "    mu_guess=mu_0\n",
    "    energy_guess=0\n",
    "    #perform search untill difference from target smaller than threshold\n",
    "    while abs((energy_guess-energy_target)/energy_target)>threshold:\n",
    "        mol_new=np.array(mol_new)\n",
    "        # set system dipoles to guess dipole\n",
    "        mol_new[:,1]=mu_guess\n",
    "        mol_new=mol_new.tolist()\n",
    "        # calculate electrostatic energy of sysytem\n",
    "        energy_guess=calc_electrostatic(mol_new,1)\n",
    "        # incremente dipole guess depending energy\n",
    "        if energy_guess>energy_target:\n",
    "            mu_guess+=0.0001 * debeye\n",
    "        elif energy_guess<energy_target:\n",
    "            mu_guess-=0.0001 * debeye\n",
    "    \n",
    "    return mu_guess\n",
    "    "
   ]
  },
  {
   "cell_type": "code",
   "execution_count": 30,
   "metadata": {},
   "outputs": [],
   "source": [
    "\n",
    "def dipoles_and_induction(mol_orig,R,threshold=10**-4 *debeye):\n",
    "    \n",
    "    mol=copy.deepcopy(mol_orig)   \n",
    "    #scale particle seperations\n",
    "    for molecule in mol:\n",
    "        molecule[0]=molecule[0]*R\n",
    "    mol_new=copy.deepcopy(mol)\n",
    "    mol_added=np.array(copy.deepcopy(mol))\n",
    "    \n",
    "    \n",
    "    \n",
    "    #initialize data frams for output \n",
    "    df_dipoles_induced=pd.DataFrame(np.array(mol)[:,0:2])\n",
    "    df_dipoles_induced.rename({0:'pos',1:'0'},axis=1,inplace=1)\n",
    "    df_induction_energy=pd.DataFrame()\n",
    "    df_induction_energy['0']=[calc_induction(mol,1,alpha_zz)]\n",
    "    df_electrostatic_energy=pd.DataFrame()\n",
    "    df_electrostatic_energy['0']=[calc_electrostatic(mol,1)]\n",
    "    df_dipoles_added=pd.DataFrame(np.array(mol)[:,0:2])\n",
    "    df_dipoles_added.rename({0:'pos',1:'0'},axis=1,inplace=1)\n",
    "    \n",
    "   \n",
    "    \n",
    "    #initiate termporary lists \n",
    "    mu_induced=[0]*len(mol)\n",
    "    mu_change=[1]*len(mol)\n",
    "    induction_energy=[0]*len(mol)\n",
    "    electrostatic_energy=[0]*len(mol)\n",
    "\n",
    "    \n",
    "    itterations=0\n",
    "    #main loop \n",
    "    while (max(abs(np.array(mu_change)))>threshold):\n",
    "        itterations+=1\n",
    "        mol_new.clear()\n",
    "        mol_new=copy.deepcopy(mol)\n",
    "        #loop over each molecule\n",
    "        for index in range(0,len(mol)):\n",
    "\n",
    "                    \n",
    "            \n",
    "            #create new list and remove current molecule\n",
    "            temp_mol=copy.deepcopy(mol)\n",
    "            temp_mol.pop(index)\n",
    "\n",
    "            total_mu_change=0\n",
    "            total_force_change=0\n",
    "            #loop over other molecules to find net force \n",
    "            for molecule in temp_mol:\n",
    "                r_z=molecule[0]-mol_new[index][0] #calc seperation\n",
    "                f_z=induced_field_si(r_z,molecule[1],molecule[2]) #calc force\n",
    "                total_force_change+=f_z #sum total force\n",
    "\n",
    "            #calc properties\n",
    "            #electrostatic_energy[index]= -total_force_change*mol[index][1]\n",
    "            if mol_new[index][1]==0:\n",
    "                mu_change[index]=0\n",
    "            else:\n",
    "                mu_change[index]=total_force_change*alpha_zz\n",
    "            #induction_energy[index]=-0.5*alpha_zz*(total_force_change**2)\n",
    "            #update mol list \n",
    "            mol_new[index][1]=mu_change[index] \n",
    "        #set charge on ion to zero after first iteration\n",
    "        #since only interested in field from induced dipooles thereafter\n",
    "        mol_new[0][2]=0\n",
    "        #update data frames\n",
    "        \n",
    "        df_dipoles_induced[str(itterations)]=mu_change\n",
    "        \n",
    "        \n",
    "        \n",
    "        mol.clear()\n",
    "        mol=copy.deepcopy(mol_new)\n",
    "        \n",
    "        mol_added[:,1]=mol_added[:,1]+(np.array(mol))[:,1]\n",
    "        df_dipoles_added[str(itterations)]=list(mol_added[:,1])\n",
    "        induction_energy=calc_induction(list(mol_added),1,alpha_zz)\n",
    "        df_induction_energy[str(itterations)]=[induction_energy]\n",
    "        electrostatic_energy=calc_electrostatic(list(mol_added),1)\n",
    "        df_electrostatic_energy[str(itterations)]=[electrostatic_energy]\n",
    "        \n",
    "        \n",
    "        \n",
    "        #exit if more than 500 iterations needed\n",
    "        if (itterations > 500) :\n",
    "            print (\"exceeded max\")\n",
    "            print (mu_change)\n",
    "            print (mol)\n",
    "            break\n",
    "    #return dataframes \n",
    "    df_dipoles_induced['final']=df_dipoles_induced.loc[:,'0':].sum(axis=1)\n",
    "    df_dipoles_induced.loc[:,\"0\":]=df_dipoles_induced.loc[:,\"0\":]/debeye\n",
    "    df_dipoles_added.loc[:,\"0\":]=df_dipoles_added.loc[:,\"0\":]/debeye\n",
    "    df_dipoles_induced['pos']=df_dipoles_induced['pos']/angstrom\n",
    "    df_dipoles_added['pos']=df_dipoles_added['pos']/angstrom\n",
    "\n",
    "\n",
    "    final_electrostatic=df_electrostatic_energy[str(itterations)]\n",
    "    final_induction=df_induction_energy[str(itterations)][0]\n",
    "    final_lennard_jones=calc_lj_energy(mol,1)\n",
    "    return [df_dipoles_induced,df_induction_energy,df_electrostatic_energy,df_dipoles_added,\\\n",
    "            [final_electrostatic,final_induction,final_lennard_jones]]\n",
    "\n",
    "\n",
    "\n",
    "\n"
   ]
  },
  {
   "cell_type": "markdown",
   "metadata": {},
   "source": [
    "# Question 1\n",
    "Consider a set of 5 neutral, dipolar molecules each separated by a distance $R$. The dipoles are aligned along the z-direction and are of magnitude $\\mu=1.855$ Debye. The molecules have a dipole polarisability of $\\frac{\\alpha_{zz}}{4\\pi \\epsilon_0}=1.45$ $Angstrom^3$ ($A^3$). The electric field generated by a dipole in the z direction is given by,\n",
    "\\begin{equation}\n",
    "\\vec{F}_z= \\frac{2\\vec{\\mu}_z}{4\\pi \\epsilon_0 R^3}.\n",
    "\\label{eq1}\n",
    "\\end{equation}\n",
    "The dipole moment of a molecule can be expanded in terms of an external electric field (generated by the other molecules), leading to the following expression,\n",
    "\\begin{equation}\n",
    "\\mu_z=\\mu_z^0+\\sum_\\beta \\alpha_{z\\beta}F_\\beta\n",
    "\\end{equation}\n",
    "where $\\mu_0$ is the intrinsic dipole and the second term is the induced dipole. Because our dipoles are aligned along z, this simplifies to,\n",
    "\\begin{equation}\n",
    "\\mu_z=\\mu_z^0+ \\alpha_{zz}F_z.\n",
    "\\end{equation}\n",
    "Higher order terms could be included but are neglected here. The electric field is (vector) additive and so $F_z$ refers to the sum of the fields produced by the other dipole molecules. \n"
   ]
  },
  {
   "cell_type": "markdown",
   "metadata": {},
   "source": [
    "The induction energy for a molecule due to the presence of the other dipoles can also be calculated using,\n",
    "\\begin{equation}\n",
    "U^{ind}=-\\frac{1}{2}\\alpha_{zz}F_z^2.\n",
    "\\end{equation}\n"
   ]
  },
  {
   "cell_type": "markdown",
   "metadata": {},
   "source": [
    "The electrostatic energy in this system only arrises form dipole-dipole interactions because the molecules are all neutral. The dipole-dipole contribution to electrostatic energy is given by,\n",
    "\\begin{equation}\n",
    "U^{elec}=-\\mu_zF_z,\n",
    "\\end{equation}\n",
    "where $\\mu_z$ is the dipole of the molecule and $F_z$ the electric field due to the other dipoles."
   ]
  },
  {
   "cell_type": "markdown",
   "metadata": {},
   "source": [
    "The dipoles induced by the electric field generated by the other dipoles is calculated using an iterative approach. At each step of the iteration, the induction due to only the previously calculated induced dipoles is calculated. The final dipoles are then the sum over the induced dipoles at every iteration. The convergence threshold for the dipoles is set at $10^{-4}$ Debye. Induction energies and electrostatic energies are calculated from the cumulative dipoles at each iteration. "
   ]
  },
  {
   "cell_type": "markdown",
   "metadata": {},
   "source": [
    "## Calculations at 2.5 Angstrom\n",
    "First, a nested list is created to represent the molecules in the system. Each nested list contains the position, dipole and charge of the molecule. "
   ]
  },
  {
   "cell_type": "code",
   "execution_count": 31,
   "metadata": {},
   "outputs": [],
   "source": [
    "# set up 5 dipoles of strength mu_0 aligned along z with zeoro charge \n",
    "mol_orig=[[0,mu_0,0],[1,mu_0,0],[2,mu_0,0],[3,mu_0,0],[4,mu_0,0]]\n",
    "# calculate induced dipoles and energies iteratively, R=2.5 Angstrom\n",
    "dipole, induction, electrostatic, dipole_added,energies = \\\n",
    "    dipoles_and_induction(mol_orig,2.5*angstrom)"
   ]
  },
  {
   "cell_type": "markdown",
   "metadata": {},
   "source": [
    "The dipoles calculated are shown in the table below in units of Debye. Column 0 holds the initial dipole strength $\\mu_0=1/855$ Debye. The induced dipoles at each iteration are shown and the final dipoles are given in the last column. 10 iterations were needed till convergence to order of $10^{-5}$ Debye. Because the dipoles are all aligned, the induction effect is positive. The smallest induction is observed on the outer dipoles, which are on average farther away from the other dipoles. The systems is symmetric about the central, third dipole (index 2), and this is reflected by the induced dipoles of the first (index 0) and fifth (index 4) and second (1) and fourth (3) molecules being equal in magnitude. The central dipole experiences the largest induction because it is on average closer to the other dipoles, and hence the induced electric field is stronger. "
   ]
  },
  {
   "cell_type": "code",
   "execution_count": 32,
   "metadata": {},
   "outputs": [
    {
     "data": {
      "text/html": [
       "<div>\n",
       "<style scoped>\n",
       "    .dataframe tbody tr th:only-of-type {\n",
       "        vertical-align: middle;\n",
       "    }\n",
       "\n",
       "    .dataframe tbody tr th {\n",
       "        vertical-align: top;\n",
       "    }\n",
       "\n",
       "    .dataframe thead th {\n",
       "        text-align: right;\n",
       "    }\n",
       "</style>\n",
       "<table border=\"1\" class=\"dataframe\">\n",
       "  <thead>\n",
       "    <tr style=\"text-align: right;\">\n",
       "      <th></th>\n",
       "      <th>pos</th>\n",
       "      <th>0</th>\n",
       "      <th>1</th>\n",
       "      <th>2</th>\n",
       "      <th>3</th>\n",
       "      <th>4</th>\n",
       "      <th>5</th>\n",
       "      <th>6</th>\n",
       "      <th>7</th>\n",
       "      <th>8</th>\n",
       "      <th>9</th>\n",
       "      <th>10</th>\n",
       "      <th>final</th>\n",
       "    </tr>\n",
       "  </thead>\n",
       "  <tbody>\n",
       "    <tr>\n",
       "      <th>0</th>\n",
       "      <td>0.0</td>\n",
       "      <td>1.855</td>\n",
       "      <td>0.405455</td>\n",
       "      <td>0.162418</td>\n",
       "      <td>0.053335</td>\n",
       "      <td>0.020016</td>\n",
       "      <td>0.006729</td>\n",
       "      <td>0.002481</td>\n",
       "      <td>0.000846</td>\n",
       "      <td>0.000308</td>\n",
       "      <td>0.000106</td>\n",
       "      <td>0.000038</td>\n",
       "      <td>2.506733</td>\n",
       "    </tr>\n",
       "    <tr>\n",
       "      <th>1</th>\n",
       "      <td>2.5</td>\n",
       "      <td>1.855</td>\n",
       "      <td>0.744363</td>\n",
       "      <td>0.239083</td>\n",
       "      <td>0.091582</td>\n",
       "      <td>0.030261</td>\n",
       "      <td>0.011323</td>\n",
       "      <td>0.003815</td>\n",
       "      <td>0.001404</td>\n",
       "      <td>0.000480</td>\n",
       "      <td>0.000174</td>\n",
       "      <td>0.000060</td>\n",
       "      <td>2.977547</td>\n",
       "    </tr>\n",
       "    <tr>\n",
       "      <th>2</th>\n",
       "      <td>5.0</td>\n",
       "      <td>1.855</td>\n",
       "      <td>0.774648</td>\n",
       "      <td>0.295121</td>\n",
       "      <td>0.096284</td>\n",
       "      <td>0.036470</td>\n",
       "      <td>0.012161</td>\n",
       "      <td>0.004515</td>\n",
       "      <td>0.001531</td>\n",
       "      <td>0.000560</td>\n",
       "      <td>0.000192</td>\n",
       "      <td>0.000070</td>\n",
       "      <td>3.076554</td>\n",
       "    </tr>\n",
       "    <tr>\n",
       "      <th>3</th>\n",
       "      <td>7.5</td>\n",
       "      <td>1.855</td>\n",
       "      <td>0.744363</td>\n",
       "      <td>0.239083</td>\n",
       "      <td>0.091582</td>\n",
       "      <td>0.030261</td>\n",
       "      <td>0.011323</td>\n",
       "      <td>0.003815</td>\n",
       "      <td>0.001404</td>\n",
       "      <td>0.000480</td>\n",
       "      <td>0.000174</td>\n",
       "      <td>0.000060</td>\n",
       "      <td>2.977547</td>\n",
       "    </tr>\n",
       "    <tr>\n",
       "      <th>4</th>\n",
       "      <td>10.0</td>\n",
       "      <td>1.855</td>\n",
       "      <td>0.405455</td>\n",
       "      <td>0.162418</td>\n",
       "      <td>0.053335</td>\n",
       "      <td>0.020016</td>\n",
       "      <td>0.006729</td>\n",
       "      <td>0.002481</td>\n",
       "      <td>0.000846</td>\n",
       "      <td>0.000308</td>\n",
       "      <td>0.000106</td>\n",
       "      <td>0.000038</td>\n",
       "      <td>2.506733</td>\n",
       "    </tr>\n",
       "  </tbody>\n",
       "</table>\n",
       "</div>"
      ],
      "text/plain": [
       "    pos      0         1         2         3         4         5         6  \\\n",
       "0   0.0  1.855  0.405455  0.162418  0.053335  0.020016  0.006729  0.002481   \n",
       "1   2.5  1.855  0.744363  0.239083  0.091582  0.030261  0.011323  0.003815   \n",
       "2   5.0  1.855  0.774648  0.295121  0.096284  0.036470  0.012161  0.004515   \n",
       "3   7.5  1.855  0.744363  0.239083  0.091582  0.030261  0.011323  0.003815   \n",
       "4  10.0  1.855  0.405455  0.162418  0.053335  0.020016  0.006729  0.002481   \n",
       "\n",
       "          7         8         9        10     final  \n",
       "0  0.000846  0.000308  0.000106  0.000038  2.506733  \n",
       "1  0.001404  0.000480  0.000174  0.000060  2.977547  \n",
       "2  0.001531  0.000560  0.000192  0.000070  3.076554  \n",
       "3  0.001404  0.000480  0.000174  0.000060  2.977547  \n",
       "4  0.000846  0.000308  0.000106  0.000038  2.506733  "
      ]
     },
     "execution_count": 32,
     "metadata": {},
     "output_type": "execute_result"
    }
   ],
   "source": [
    "# Induced and final dipoles at 2.5 Angstrom\n",
    "dipole"
   ]
  },
  {
   "cell_type": "markdown",
   "metadata": {},
   "source": [
    "The total induction energy at each iteration is shown below in units of Hartree. The induction energy is negative, as expected,  which implies that the system adopts a more stable configuration due to inductive processes. The difference in induction energies between iterations falls at lower iterations which corresponds to the smaller changes in induced dipoles at later iterations. The induction energy has converged on the order of $10^{-6}$ Hartree. Thus, the induction energy has converged to a similar level as the induced dipoles. "
   ]
  },
  {
   "cell_type": "code",
   "execution_count": 33,
   "metadata": {},
   "outputs": [
    {
     "data": {
      "text/html": [
       "<div>\n",
       "<style scoped>\n",
       "    .dataframe tbody tr th:only-of-type {\n",
       "        vertical-align: middle;\n",
       "    }\n",
       "\n",
       "    .dataframe tbody tr th {\n",
       "        vertical-align: top;\n",
       "    }\n",
       "\n",
       "    .dataframe thead th {\n",
       "        text-align: right;\n",
       "    }\n",
       "</style>\n",
       "<table border=\"1\" class=\"dataframe\">\n",
       "  <thead>\n",
       "    <tr style=\"text-align: right;\">\n",
       "      <th></th>\n",
       "      <th>0</th>\n",
       "      <th>1</th>\n",
       "      <th>2</th>\n",
       "      <th>3</th>\n",
       "      <th>4</th>\n",
       "      <th>5</th>\n",
       "      <th>6</th>\n",
       "      <th>7</th>\n",
       "      <th>8</th>\n",
       "      <th>9</th>\n",
       "      <th>10</th>\n",
       "    </tr>\n",
       "  </thead>\n",
       "  <tbody>\n",
       "    <tr>\n",
       "      <th>0</th>\n",
       "      <td>-0.016112</td>\n",
       "      <td>-0.029452</td>\n",
       "      <td>-0.03514</td>\n",
       "      <td>-0.037267</td>\n",
       "      <td>-0.038035</td>\n",
       "      <td>-0.038308</td>\n",
       "      <td>-0.038405</td>\n",
       "      <td>-0.038439</td>\n",
       "      <td>-0.038451</td>\n",
       "      <td>-0.038455</td>\n",
       "      <td>-0.038457</td>\n",
       "    </tr>\n",
       "  </tbody>\n",
       "</table>\n",
       "</div>"
      ],
      "text/plain": [
       "          0         1        2         3         4         5         6  \\\n",
       "0 -0.016112 -0.029452 -0.03514 -0.037267 -0.038035 -0.038308 -0.038405   \n",
       "\n",
       "          7         8         9        10  \n",
       "0 -0.038439 -0.038451 -0.038455 -0.038457  "
      ]
     },
     "execution_count": 33,
     "metadata": {},
     "output_type": "execute_result"
    }
   ],
   "source": [
    "#induction energies at 2.5 Angstrom \n",
    "induction*hartree"
   ]
  },
  {
   "cell_type": "markdown",
   "metadata": {},
   "source": [
    "The electrostatic energy is also calculated form the cumulative dipoles at each iteration and the results are summarized on the table below. The electrostatic energies are larger than the induction energies and increase in magnitude as the total dipoles grow. The electrostatic energy is negative because the only contributing term is the dipole-dipole interaction which has a negative sign. "
   ]
  },
  {
   "cell_type": "code",
   "execution_count": 35,
   "metadata": {},
   "outputs": [
    {
     "data": {
      "text/html": [
       "<div>\n",
       "<style scoped>\n",
       "    .dataframe tbody tr th:only-of-type {\n",
       "        vertical-align: middle;\n",
       "    }\n",
       "\n",
       "    .dataframe tbody tr th {\n",
       "        vertical-align: top;\n",
       "    }\n",
       "\n",
       "    .dataframe thead th {\n",
       "        text-align: right;\n",
       "    }\n",
       "</style>\n",
       "<table border=\"1\" class=\"dataframe\">\n",
       "  <thead>\n",
       "    <tr style=\"text-align: right;\">\n",
       "      <th></th>\n",
       "      <th>0</th>\n",
       "      <th>1</th>\n",
       "      <th>2</th>\n",
       "      <th>3</th>\n",
       "      <th>4</th>\n",
       "      <th>5</th>\n",
       "      <th>6</th>\n",
       "      <th>7</th>\n",
       "      <th>8</th>\n",
       "      <th>9</th>\n",
       "      <th>10</th>\n",
       "    </tr>\n",
       "  </thead>\n",
       "  <tbody>\n",
       "    <tr>\n",
       "      <th>0</th>\n",
       "      <td>-0.045106</td>\n",
       "      <td>-0.082994</td>\n",
       "      <td>-0.099054</td>\n",
       "      <td>-0.105081</td>\n",
       "      <td>-0.10725</td>\n",
       "      <td>-0.108023</td>\n",
       "      <td>-0.108297</td>\n",
       "      <td>-0.108394</td>\n",
       "      <td>-0.108428</td>\n",
       "      <td>-0.10844</td>\n",
       "      <td>-0.108444</td>\n",
       "    </tr>\n",
       "  </tbody>\n",
       "</table>\n",
       "</div>"
      ],
      "text/plain": [
       "          0         1         2         3        4         5         6  \\\n",
       "0 -0.045106 -0.082994 -0.099054 -0.105081 -0.10725 -0.108023 -0.108297   \n",
       "\n",
       "          7         8        9        10  \n",
       "0 -0.108394 -0.108428 -0.10844 -0.108444  "
      ]
     },
     "execution_count": 35,
     "metadata": {},
     "output_type": "execute_result"
    }
   ],
   "source": [
    "#electrostatic energies at 2.5 Angstrom\n",
    "electrostatic*hartree"
   ]
  },
  {
   "cell_type": "markdown",
   "metadata": {},
   "source": [
    "## Calculations with 3.5 Angstrom"
   ]
  },
  {
   "cell_type": "code",
   "execution_count": 38,
   "metadata": {},
   "outputs": [],
   "source": [
    "mol_orig=[[0,mu_0,0],[1,mu_0,0],[2,mu_0,0],[3,mu_0,0],[4,mu_0,0]]\n",
    "# calculate induced dipoles and energies iteratively, R=3.5 Angstrom\n",
    "dipole, induction, electrostatic, dipole_added, energies = \\\n",
    "    dipoles_and_induction(mol_orig,3.5*angstrom)"
   ]
  },
  {
   "cell_type": "markdown",
   "metadata": {},
   "source": [
    "Next the same calculations are done with an intermolecular separation of 3.5 Angstroms. Only 5 iterations are needed to converge. This is as expected as the inductions effects will be smaller due the $\\frac{1}{R^3}$ dependence of the dipole induced fields. The final dipoles, as shown below, are smaller but the symmetry and relative sizes have not changed.  "
   ]
  },
  {
   "cell_type": "code",
   "execution_count": 39,
   "metadata": {},
   "outputs": [
    {
     "data": {
      "text/html": [
       "<div>\n",
       "<style scoped>\n",
       "    .dataframe tbody tr th:only-of-type {\n",
       "        vertical-align: middle;\n",
       "    }\n",
       "\n",
       "    .dataframe tbody tr th {\n",
       "        vertical-align: top;\n",
       "    }\n",
       "\n",
       "    .dataframe thead th {\n",
       "        text-align: right;\n",
       "    }\n",
       "</style>\n",
       "<table border=\"1\" class=\"dataframe\">\n",
       "  <thead>\n",
       "    <tr style=\"text-align: right;\">\n",
       "      <th></th>\n",
       "      <th>pos</th>\n",
       "      <th>0</th>\n",
       "      <th>1</th>\n",
       "      <th>2</th>\n",
       "      <th>3</th>\n",
       "      <th>4</th>\n",
       "      <th>5</th>\n",
       "      <th>final</th>\n",
       "    </tr>\n",
       "  </thead>\n",
       "  <tbody>\n",
       "    <tr>\n",
       "      <th>0</th>\n",
       "      <td>0.0</td>\n",
       "      <td>1.855</td>\n",
       "      <td>0.147761</td>\n",
       "      <td>0.021571</td>\n",
       "      <td>0.002581</td>\n",
       "      <td>0.000353</td>\n",
       "      <td>0.000043</td>\n",
       "      <td>2.027309</td>\n",
       "    </tr>\n",
       "    <tr>\n",
       "      <th>1</th>\n",
       "      <td>3.5</td>\n",
       "      <td>1.855</td>\n",
       "      <td>0.271269</td>\n",
       "      <td>0.031753</td>\n",
       "      <td>0.004433</td>\n",
       "      <td>0.000534</td>\n",
       "      <td>0.000073</td>\n",
       "      <td>2.163061</td>\n",
       "    </tr>\n",
       "    <tr>\n",
       "      <th>2</th>\n",
       "      <td>7.0</td>\n",
       "      <td>1.855</td>\n",
       "      <td>0.282306</td>\n",
       "      <td>0.039195</td>\n",
       "      <td>0.004660</td>\n",
       "      <td>0.000643</td>\n",
       "      <td>0.000078</td>\n",
       "      <td>2.181883</td>\n",
       "    </tr>\n",
       "    <tr>\n",
       "      <th>3</th>\n",
       "      <td>10.5</td>\n",
       "      <td>1.855</td>\n",
       "      <td>0.271269</td>\n",
       "      <td>0.031753</td>\n",
       "      <td>0.004433</td>\n",
       "      <td>0.000534</td>\n",
       "      <td>0.000073</td>\n",
       "      <td>2.163061</td>\n",
       "    </tr>\n",
       "    <tr>\n",
       "      <th>4</th>\n",
       "      <td>14.0</td>\n",
       "      <td>1.855</td>\n",
       "      <td>0.147761</td>\n",
       "      <td>0.021571</td>\n",
       "      <td>0.002581</td>\n",
       "      <td>0.000353</td>\n",
       "      <td>0.000043</td>\n",
       "      <td>2.027309</td>\n",
       "    </tr>\n",
       "  </tbody>\n",
       "</table>\n",
       "</div>"
      ],
      "text/plain": [
       "    pos      0         1         2         3         4         5     final\n",
       "0   0.0  1.855  0.147761  0.021571  0.002581  0.000353  0.000043  2.027309\n",
       "1   3.5  1.855  0.271269  0.031753  0.004433  0.000534  0.000073  2.163061\n",
       "2   7.0  1.855  0.282306  0.039195  0.004660  0.000643  0.000078  2.181883\n",
       "3  10.5  1.855  0.271269  0.031753  0.004433  0.000534  0.000073  2.163061\n",
       "4  14.0  1.855  0.147761  0.021571  0.002581  0.000353  0.000043  2.027309"
      ]
     },
     "execution_count": 39,
     "metadata": {},
     "output_type": "execute_result"
    }
   ],
   "source": [
    "# Induced and final dipoles at 3.5 Angstrom\n",
    "dipole"
   ]
  },
  {
   "cell_type": "markdown",
   "metadata": {},
   "source": [
    "As expected, the magnitude of the induction energies has fallen dramatically, by an order of magnitude. The induction energy depends on the square of the fields and so has a very strong $\\frac{1}{R^6}$ dependence. Again, the induction energies have converged on the order $10^{-6}$ Hartree. "
   ]
  },
  {
   "cell_type": "code",
   "execution_count": 40,
   "metadata": {},
   "outputs": [
    {
     "data": {
      "text/html": [
       "<div>\n",
       "<style scoped>\n",
       "    .dataframe tbody tr th:only-of-type {\n",
       "        vertical-align: middle;\n",
       "    }\n",
       "\n",
       "    .dataframe tbody tr th {\n",
       "        vertical-align: top;\n",
       "    }\n",
       "\n",
       "    .dataframe thead th {\n",
       "        text-align: right;\n",
       "    }\n",
       "</style>\n",
       "<table border=\"1\" class=\"dataframe\">\n",
       "  <thead>\n",
       "    <tr style=\"text-align: right;\">\n",
       "      <th></th>\n",
       "      <th>0</th>\n",
       "      <th>1</th>\n",
       "      <th>2</th>\n",
       "      <th>3</th>\n",
       "      <th>4</th>\n",
       "      <th>5</th>\n",
       "    </tr>\n",
       "  </thead>\n",
       "  <tbody>\n",
       "    <tr>\n",
       "      <th>0</th>\n",
       "      <td>-0.00214</td>\n",
       "      <td>-0.002724</td>\n",
       "      <td>-0.002804</td>\n",
       "      <td>-0.002815</td>\n",
       "      <td>-0.002816</td>\n",
       "      <td>-0.002816</td>\n",
       "    </tr>\n",
       "  </tbody>\n",
       "</table>\n",
       "</div>"
      ],
      "text/plain": [
       "         0         1         2         3         4         5\n",
       "0 -0.00214 -0.002724 -0.002804 -0.002815 -0.002816 -0.002816"
      ]
     },
     "execution_count": 40,
     "metadata": {},
     "output_type": "execute_result"
    }
   ],
   "source": [
    "# Induction energies at 3.5 Angstrom\n",
    "induction*hartree"
   ]
  },
  {
   "cell_type": "markdown",
   "metadata": {},
   "source": [
    "The electrostatic energy has also significantly fallen but the difference is less pronounced because the electric field terms depend on the force and not the square of the forces as the induction energies. "
   ]
  },
  {
   "cell_type": "code",
   "execution_count": 41,
   "metadata": {},
   "outputs": [
    {
     "data": {
      "text/html": [
       "<div>\n",
       "<style scoped>\n",
       "    .dataframe tbody tr th:only-of-type {\n",
       "        vertical-align: middle;\n",
       "    }\n",
       "\n",
       "    .dataframe tbody tr th {\n",
       "        vertical-align: top;\n",
       "    }\n",
       "\n",
       "    .dataframe thead th {\n",
       "        text-align: right;\n",
       "    }\n",
       "</style>\n",
       "<table border=\"1\" class=\"dataframe\">\n",
       "  <thead>\n",
       "    <tr style=\"text-align: right;\">\n",
       "      <th></th>\n",
       "      <th>0</th>\n",
       "      <th>1</th>\n",
       "      <th>2</th>\n",
       "      <th>3</th>\n",
       "      <th>4</th>\n",
       "      <th>5</th>\n",
       "    </tr>\n",
       "  </thead>\n",
       "  <tbody>\n",
       "    <tr>\n",
       "      <th>0</th>\n",
       "      <td>-0.016438</td>\n",
       "      <td>-0.020992</td>\n",
       "      <td>-0.021616</td>\n",
       "      <td>-0.021697</td>\n",
       "      <td>-0.021707</td>\n",
       "      <td>-0.021709</td>\n",
       "    </tr>\n",
       "  </tbody>\n",
       "</table>\n",
       "</div>"
      ],
      "text/plain": [
       "          0         1         2         3         4         5\n",
       "0 -0.016438 -0.020992 -0.021616 -0.021697 -0.021707 -0.021709"
      ]
     },
     "execution_count": 41,
     "metadata": {},
     "output_type": "execute_result"
    }
   ],
   "source": [
    "# Electrostatic energies at 3.5 Angstrom\n",
    "electrostatic*hartree"
   ]
  },
  {
   "cell_type": "markdown",
   "metadata": {},
   "source": [
    "## Calculations with 4.5 Angstrom"
   ]
  },
  {
   "cell_type": "code",
   "execution_count": 42,
   "metadata": {},
   "outputs": [],
   "source": [
    "mol_orig=[[0,mu_0,0],[1,mu_0,0],[2,mu_0,0],[3,mu_0,0],[4,mu_0,0]]\n",
    "# calculate induced dipoles and energies iteratively, R=4.5 Angstrom\n",
    "dipole, induction, electrostatic, dipole_added, energies = \\\n",
    "    dipoles_and_induction(mol_orig,4.5*angstrom)"
   ]
  },
  {
   "cell_type": "markdown",
   "metadata": {},
   "source": [
    "Finally the results for calculations with 4.5 Angstrom separation are presented below. These results follow the same trends as discussed for 3.5 Angstroms. Only 4 iterations are needed for convergence. The induction effects are almost negligible with induction energies of order $10^{-4}$ Hartree. As a result, the difference in final dipoles between the molecules are less pronounced and the electrostatic energy dominates the total energy. "
   ]
  },
  {
   "cell_type": "code",
   "execution_count": 44,
   "metadata": {},
   "outputs": [
    {
     "data": {
      "text/html": [
       "<div>\n",
       "<style scoped>\n",
       "    .dataframe tbody tr th:only-of-type {\n",
       "        vertical-align: middle;\n",
       "    }\n",
       "\n",
       "    .dataframe tbody tr th {\n",
       "        vertical-align: top;\n",
       "    }\n",
       "\n",
       "    .dataframe thead th {\n",
       "        text-align: right;\n",
       "    }\n",
       "</style>\n",
       "<table border=\"1\" class=\"dataframe\">\n",
       "  <thead>\n",
       "    <tr style=\"text-align: right;\">\n",
       "      <th></th>\n",
       "      <th>pos</th>\n",
       "      <th>0</th>\n",
       "      <th>1</th>\n",
       "      <th>2</th>\n",
       "      <th>3</th>\n",
       "      <th>4</th>\n",
       "      <th>final</th>\n",
       "    </tr>\n",
       "  </thead>\n",
       "  <tbody>\n",
       "    <tr>\n",
       "      <th>0</th>\n",
       "      <td>0.0</td>\n",
       "      <td>1.855</td>\n",
       "      <td>0.069522</td>\n",
       "      <td>0.004775</td>\n",
       "      <td>0.000269</td>\n",
       "      <td>0.000017</td>\n",
       "      <td>1.929584</td>\n",
       "    </tr>\n",
       "    <tr>\n",
       "      <th>1</th>\n",
       "      <td>4.5</td>\n",
       "      <td>1.855</td>\n",
       "      <td>0.127634</td>\n",
       "      <td>0.007029</td>\n",
       "      <td>0.000462</td>\n",
       "      <td>0.000026</td>\n",
       "      <td>1.990152</td>\n",
       "    </tr>\n",
       "    <tr>\n",
       "      <th>2</th>\n",
       "      <td>9.0</td>\n",
       "      <td>1.855</td>\n",
       "      <td>0.132827</td>\n",
       "      <td>0.008677</td>\n",
       "      <td>0.000485</td>\n",
       "      <td>0.000032</td>\n",
       "      <td>1.997021</td>\n",
       "    </tr>\n",
       "    <tr>\n",
       "      <th>3</th>\n",
       "      <td>13.5</td>\n",
       "      <td>1.855</td>\n",
       "      <td>0.127634</td>\n",
       "      <td>0.007029</td>\n",
       "      <td>0.000462</td>\n",
       "      <td>0.000026</td>\n",
       "      <td>1.990152</td>\n",
       "    </tr>\n",
       "    <tr>\n",
       "      <th>4</th>\n",
       "      <td>18.0</td>\n",
       "      <td>1.855</td>\n",
       "      <td>0.069522</td>\n",
       "      <td>0.004775</td>\n",
       "      <td>0.000269</td>\n",
       "      <td>0.000017</td>\n",
       "      <td>1.929584</td>\n",
       "    </tr>\n",
       "  </tbody>\n",
       "</table>\n",
       "</div>"
      ],
      "text/plain": [
       "    pos      0         1         2         3         4     final\n",
       "0   0.0  1.855  0.069522  0.004775  0.000269  0.000017  1.929584\n",
       "1   4.5  1.855  0.127634  0.007029  0.000462  0.000026  1.990152\n",
       "2   9.0  1.855  0.132827  0.008677  0.000485  0.000032  1.997021\n",
       "3  13.5  1.855  0.127634  0.007029  0.000462  0.000026  1.990152\n",
       "4  18.0  1.855  0.069522  0.004775  0.000269  0.000017  1.929584"
      ]
     },
     "execution_count": 44,
     "metadata": {},
     "output_type": "execute_result"
    }
   ],
   "source": [
    "# Induced and final dipoles at 4.5 Angstrom\n",
    "dipole"
   ]
  },
  {
   "cell_type": "code",
   "execution_count": 45,
   "metadata": {},
   "outputs": [
    {
     "data": {
      "text/html": [
       "<div>\n",
       "<style scoped>\n",
       "    .dataframe tbody tr th:only-of-type {\n",
       "        vertical-align: middle;\n",
       "    }\n",
       "\n",
       "    .dataframe tbody tr th {\n",
       "        vertical-align: top;\n",
       "    }\n",
       "\n",
       "    .dataframe thead th {\n",
       "        text-align: right;\n",
       "    }\n",
       "</style>\n",
       "<table border=\"1\" class=\"dataframe\">\n",
       "  <thead>\n",
       "    <tr style=\"text-align: right;\">\n",
       "      <th></th>\n",
       "      <th>0</th>\n",
       "      <th>1</th>\n",
       "      <th>2</th>\n",
       "      <th>3</th>\n",
       "      <th>4</th>\n",
       "    </tr>\n",
       "  </thead>\n",
       "  <tbody>\n",
       "    <tr>\n",
       "      <th>0</th>\n",
       "      <td>-0.000474</td>\n",
       "      <td>-0.000533</td>\n",
       "      <td>-0.000536</td>\n",
       "      <td>-0.000536</td>\n",
       "      <td>-0.000536</td>\n",
       "    </tr>\n",
       "  </tbody>\n",
       "</table>\n",
       "</div>"
      ],
      "text/plain": [
       "          0         1         2         3         4\n",
       "0 -0.000474 -0.000533 -0.000536 -0.000536 -0.000536"
      ]
     },
     "execution_count": 45,
     "metadata": {},
     "output_type": "execute_result"
    }
   ],
   "source": [
    "# Induction energies at 4.5 Angstrom\n",
    "induction*hartree"
   ]
  },
  {
   "cell_type": "code",
   "execution_count": 46,
   "metadata": {},
   "outputs": [
    {
     "data": {
      "text/html": [
       "<div>\n",
       "<style scoped>\n",
       "    .dataframe tbody tr th:only-of-type {\n",
       "        vertical-align: middle;\n",
       "    }\n",
       "\n",
       "    .dataframe tbody tr th {\n",
       "        vertical-align: top;\n",
       "    }\n",
       "\n",
       "    .dataframe thead th {\n",
       "        text-align: right;\n",
       "    }\n",
       "</style>\n",
       "<table border=\"1\" class=\"dataframe\">\n",
       "  <thead>\n",
       "    <tr style=\"text-align: right;\">\n",
       "      <th></th>\n",
       "      <th>0</th>\n",
       "      <th>1</th>\n",
       "      <th>2</th>\n",
       "      <th>3</th>\n",
       "      <th>4</th>\n",
       "    </tr>\n",
       "  </thead>\n",
       "  <tbody>\n",
       "    <tr>\n",
       "      <th>0</th>\n",
       "      <td>-0.007734</td>\n",
       "      <td>-0.00871</td>\n",
       "      <td>-0.008771</td>\n",
       "      <td>-0.008775</td>\n",
       "      <td>-0.008775</td>\n",
       "    </tr>\n",
       "  </tbody>\n",
       "</table>\n",
       "</div>"
      ],
      "text/plain": [
       "          0        1         2         3         4\n",
       "0 -0.007734 -0.00871 -0.008771 -0.008775 -0.008775"
      ]
     },
     "execution_count": 46,
     "metadata": {},
     "output_type": "execute_result"
    }
   ],
   "source": [
    "#electrostatic energies at 4.5 Angstrom\n",
    "electrostatic*hartree"
   ]
  },
  {
   "cell_type": "markdown",
   "metadata": {},
   "source": [
    "# Question 2"
   ]
  },
  {
   "cell_type": "markdown",
   "metadata": {},
   "source": [
    "Instead of iteratively solving for the induced dipoles, a artificially enhanced dipole can be used to simulate the presences of induction effects. The electrostatic energy resulting from this enhanced dipole should equal the sum of the electrostatic and induction energies found from the iterative approach. A small function, find_enhanced_dipole(mol_orig,mu_0,R,energy_target,threshold) was written to find the required enhanced dipole to produce the same total energy passed via the energy_target variable. The threshold variable determines to within what accuracy the energies must match. The value of $0.001\\%$ is used below."
   ]
  },
  {
   "cell_type": "code",
   "execution_count": 47,
   "metadata": {},
   "outputs": [],
   "source": [
    "# Function to determine required enhance dipole\n",
    "def find_enhanced_dipole(mol_orig,mu_0,R,energy_target,threshold):\n",
    "    mol_new=copy.deepcopy(mol_orig)\n",
    "    #scale particle seperations by R\n",
    "    for molecule in mol_new:\n",
    "        molecule[0]=molecule[0]*R\n",
    "    mol_new=np.array(mol_new)\n",
    "    #set initial starting guess\n",
    "    mu_guess=mu_0\n",
    "    energy_guess=0\n",
    "    #perform search untill difference from target smaller than threshold\n",
    "    while abs((energy_guess-energy_target)/energy_target)>threshold:\n",
    "        mol_new=np.array(mol_new)\n",
    "        # set system dipoles to guess dipole\n",
    "        mol_new[:,1]=mu_guess\n",
    "        mol_new=mol_new.tolist()\n",
    "        # calculate electrostatic energy of sysytem\n",
    "        energy_guess=calc_electrostatic(mol_new,1)\n",
    "        # incremente dipole guess depending energy\n",
    "        if energy_guess>energy_target:\n",
    "            mu_guess+=0.0001 * debeye\n",
    "        elif energy_guess<energy_target:\n",
    "            mu_guess-=0.0001 * debeye\n",
    "    \n",
    "    return mu_guess\n",
    "    "
   ]
  },
  {
   "cell_type": "markdown",
   "metadata": {},
   "source": [
    "First, the total energies of the system at separations of 2.5, 3.5 and 4.5 Angstrom are calculated to then feed to the enhanced dipole finder. "
   ]
  },
  {
   "cell_type": "code",
   "execution_count": 48,
   "metadata": {},
   "outputs": [
    {
     "data": {
      "text/plain": [
       "-0.1469009230049121"
      ]
     },
     "execution_count": 48,
     "metadata": {},
     "output_type": "execute_result"
    }
   ],
   "source": [
    "# Calculate total energy (electrostatic + induced) at 2.5 Angstrom \n",
    "mol_orig=[[0,mu_0,0],[1,mu_0,0],[2,mu_0,0],[3,mu_0,0],[4,mu_0,0]]\n",
    "dipole, induction, electrostatic, dipole_added, energies = \\\n",
    "    dipoles_and_induction(mol_orig,2.5*angstrom)\n",
    "total_energy_2_5=float(energies[0]+energies[1])\n",
    "total_energy_2_5*hartree"
   ]
  },
  {
   "cell_type": "code",
   "execution_count": 49,
   "metadata": {},
   "outputs": [
    {
     "data": {
      "text/plain": [
       "-0.024524962408504967"
      ]
     },
     "execution_count": 49,
     "metadata": {},
     "output_type": "execute_result"
    }
   ],
   "source": [
    "# Calculate total energy (electrostatic + induced) at 3.5 Angstrom \n",
    "mol_orig=[[0,mu_0,0],[1,mu_0,0],[2,mu_0,0],[3,mu_0,0],[4,mu_0,0]]\n",
    "dipole, induction, electrostatic, dipole_added, energies = \\\n",
    "    dipoles_and_induction(mol_orig,3.5*angstrom)\n",
    "total_energy_3_5=float(energies[0]+energies[1])\n",
    "total_energy_3_5*hartree"
   ]
  },
  {
   "cell_type": "code",
   "execution_count": 50,
   "metadata": {},
   "outputs": [
    {
     "data": {
      "text/plain": [
       "-0.009311285698992004"
      ]
     },
     "execution_count": 50,
     "metadata": {},
     "output_type": "execute_result"
    }
   ],
   "source": [
    "# Calculate total energy (electrostatic + induced) at 5.5 Angstrom \n",
    "mol_orig=[[0,mu_0,0],[1,mu_0,0],[2,mu_0,0],[3,mu_0,0],[4,mu_0,0]]\n",
    "dipole, induction, electrostatic, dipole_added, energies = \\\n",
    "    dipoles_and_induction(mol_orig,4.5*angstrom)\n",
    "total_energy_4_5=float(energies[0]+energies[1])\n",
    "total_energy_4_5*hartree"
   ]
  },
  {
   "cell_type": "markdown",
   "metadata": {},
   "source": [
    "These total energies are now fed to the enhanced dipole function to find the necessary enhanced dipoles to generated these energies from purely electrostatic effects. The enhanced dipoles at 2.5, 3.5 and 4.5 Angstrom are calculated below and displayed in Debye.  "
   ]
  },
  {
   "cell_type": "code",
   "execution_count": 61,
   "metadata": {},
   "outputs": [
    {
     "data": {
      "text/plain": [
       "3.3476000000007184"
      ]
     },
     "execution_count": 61,
     "metadata": {},
     "output_type": "execute_result"
    }
   ],
   "source": [
    "# Calc enhanced dipole at 2.5 Angstrom\n",
    "mol_orig=[[0,mu_0,0],[1,mu_0,0],[2,mu_0,0],[3,mu_0,0],[4,mu_0,0]]\n",
    "mu_2_5=find_enhanced_dipole(mol_orig,mu_0,2.5*angstrom,total_energy_2_5,0.0001)\n",
    "mu_2_5/debeye"
   ]
  },
  {
   "cell_type": "code",
   "execution_count": 62,
   "metadata": {},
   "outputs": [
    {
     "data": {
      "text/plain": [
       "2.2658000000001977"
      ]
     },
     "execution_count": 62,
     "metadata": {},
     "output_type": "execute_result"
    }
   ],
   "source": [
    "# Calc enhanced dipole at 3.5 Angstrom\n",
    "mol_orig=[[0,mu_0,0],[1,mu_0,0],[2,mu_0,0],[3,mu_0,0],[4,mu_0,0]]\n",
    "mu_3_5=find_enhanced_dipole(mol_orig,mu_0,3.5*angstrom,total_energy_3_5,0.0001)\n",
    "mu_3_5/debeye"
   ]
  },
  {
   "cell_type": "code",
   "execution_count": 63,
   "metadata": {},
   "outputs": [
    {
     "data": {
      "text/plain": [
       "2.0354000000000867"
      ]
     },
     "execution_count": 63,
     "metadata": {},
     "output_type": "execute_result"
    }
   ],
   "source": [
    "# Calc enhanced dipole at 4.5 Angstrom\n",
    "mol_orig=[[0,mu_0,0],[1,mu_0,0],[2,mu_0,0],[3,mu_0,0],[4,mu_0,0]]\n",
    "mu_4_5=find_enhanced_dipole(mol_orig,mu_0,4.5*angstrom,total_energy_4_5,0.0001)\n",
    "mu_4_5/debeye"
   ]
  },
  {
   "cell_type": "markdown",
   "metadata": {},
   "source": [
    "At a distance of 2.5 Angstrom, the required enhanced dipole is much larger than the original dipole of 1.855 Debye because at short distances, the induction effects are very strong, and the induction energies are relatively large. As the separation between molecules is increased, the induction energy falls of at a much faster rate than the electrostatic energy and hence smaller increases in the enhanced dipole are observed. At each separation, the enhanced dipole is larger than the largest induced dipole. This must be because the induction energy is \"missing\" and must be made up by artificially higher electrostatic energy due to stronger dipole-dipole interactions. At a separation of 4.5 Angstrom, the enhanced dipole is only slightly larger than the original dipole because, due to the larger distances, the induction effects are much smaller than electrostatic effects due to the scaling discussed in earlier sections. "
   ]
  },
  {
   "cell_type": "markdown",
   "metadata": {},
   "source": [
    "# Question 3"
   ]
  },
  {
   "cell_type": "markdown",
   "metadata": {},
   "source": [
    "In this questions the system under investigation is changed to include a positively charged ($+1e$), non-polar ion at distance R to the left of the dipoles. The ion is assumed to be un-polarizable. To incorporate the ion into the code, the initial input list was modified by adding a molecule at position -1 with zero dipole and $+1e$ charge."
   ]
  },
  {
   "cell_type": "code",
   "execution_count": 51,
   "metadata": {},
   "outputs": [],
   "source": [
    "mol_orig=[[-1,0,1*e],[0,mu_0,0],[1,mu_0,0],[2,mu_0,0],[3,mu_0,0],[4,mu_0,0]]"
   ]
  },
  {
   "cell_type": "markdown",
   "metadata": {},
   "source": [
    "Calculations are performed using the same functions as previously. The introduction of a charged particle simply introduces a new source of electric fields. The field due to a charged particle is given by,\n",
    "\\begin{equation}\n",
    "\\vec{F}=\\frac{Q}{48\\pi\\epsilon_0 R^2}\\hat{R},\n",
    "\\end{equation}\n",
    "where $Q$ is the charge and $\\hat{R}$ is the unit vector of the direction of the field. Because the ion is located to the left and has positive charge, the field felt by the dipoles will be along the positive z-direction and is aligned with the dipoles. \n",
    "The function that calculates the electric fields is given below. The first term is the field generated by a dipole, the second the field generated by a charge.  "
   ]
  },
  {
   "cell_type": "code",
   "execution_count": 52,
   "metadata": {},
   "outputs": [],
   "source": [
    "def induced_field_si(R,mu,charge):\n",
    "    return (2*mu)/(4*pi*epsilon*(abs(R)**3))+\\\n",
    "            (charge/(4*pi*epsilon*(abs(R)**2)))"
   ]
  },
  {
   "cell_type": "markdown",
   "metadata": {},
   "source": [
    "Because my iterative approach only uses the induced fields in each iteration past the first, the induction effect of the charged particle is only applied once in the first iteration. This is because the ion is not polarisable and only induced effects are calculated in later iterations. The positive ion should increase the dipoles because the electric field generated is aligned with those generated by the dipoles. The ion will also change the magnitude of the electrostatic term as the charged ion contributes to the total electrostatic energy by introducing charge-dipole terms to the system which are added explicitly in the function calculating electrostatic energy. The charge dipole terms are of the form,\n",
    "\\begin{equation}\n",
    "U^{charge-dipole}=\\frac{Q \\vec{\\mu} \\cdot \\vec{R}}{4\\pi \\epsilon_0 R^3}=Q(\\vec{F}\\cdot\\vec{R}),\n",
    "\\end{equation}\n",
    "where $Q$ is the charge and $\\vec{F}$ the field generated by the dipole $\\vec{\\mu}$. These charge dipole terms should contribute positively to the total electrostatic energy because the charge $Q$ is positive and the field is aligned with the distance vector between the ion and the dipoles. "
   ]
  },
  {
   "cell_type": "markdown",
   "metadata": {},
   "source": [
    "## Calculations with 2.5 Angstrom"
   ]
  },
  {
   "cell_type": "markdown",
   "metadata": {},
   "source": [
    "First, the induced dipoles and energies are calculated for the new system at a separation of 2.5 Angstrom. "
   ]
  },
  {
   "cell_type": "code",
   "execution_count": 58,
   "metadata": {},
   "outputs": [],
   "source": [
    "# Calculation of dipoles and energies iteratively at 2.5 Angstrom\n",
    "mol_orig=[[-1,0,1*e],[0,mu_0,0],[1,mu_0,0],[2,mu_0,0],[3,mu_0,0],[4,mu_0,0]]\n",
    "dipole, induction, electrostatic, dipole_added , energies = \\\n",
    "    dipoles_and_induction(mol_orig,2.5*angstrom)"
   ]
  },
  {
   "cell_type": "markdown",
   "metadata": {},
   "source": [
    "The table below gives the induced and final dipoles for the molecules. As desired, the ion at index 0 is not polarisable. The presence of the ion increases the induced dipole in the vicinity of the ion. The field due to the charged ion decays with $\\frac{1}{R^2}$ compared to the $\\frac{1}{R^3}$ dependence of the dipole induced fields. As a result, the left most dipole has the largest final dipole. The introduction of the ion has broken the symmetry of the system and the central dipole is now weaker then those to its left due to its relatively large distance from the ion. Convergence is still reached after 10 iterations to the same order of accuracy. "
   ]
  },
  {
   "cell_type": "code",
   "execution_count": 59,
   "metadata": {},
   "outputs": [
    {
     "data": {
      "text/html": [
       "<div>\n",
       "<style scoped>\n",
       "    .dataframe tbody tr th:only-of-type {\n",
       "        vertical-align: middle;\n",
       "    }\n",
       "\n",
       "    .dataframe tbody tr th {\n",
       "        vertical-align: top;\n",
       "    }\n",
       "\n",
       "    .dataframe thead th {\n",
       "        text-align: right;\n",
       "    }\n",
       "</style>\n",
       "<table border=\"1\" class=\"dataframe\">\n",
       "  <thead>\n",
       "    <tr style=\"text-align: right;\">\n",
       "      <th></th>\n",
       "      <th>pos</th>\n",
       "      <th>0</th>\n",
       "      <th>1</th>\n",
       "      <th>2</th>\n",
       "      <th>3</th>\n",
       "      <th>4</th>\n",
       "      <th>5</th>\n",
       "      <th>6</th>\n",
       "      <th>7</th>\n",
       "      <th>8</th>\n",
       "      <th>9</th>\n",
       "      <th>10</th>\n",
       "      <th>final</th>\n",
       "    </tr>\n",
       "  </thead>\n",
       "  <tbody>\n",
       "    <tr>\n",
       "      <th>0</th>\n",
       "      <td>-2.5</td>\n",
       "      <td>0.000</td>\n",
       "      <td>0.000000</td>\n",
       "      <td>0.000000</td>\n",
       "      <td>0.000000</td>\n",
       "      <td>0.000000</td>\n",
       "      <td>0.000000</td>\n",
       "      <td>0.000000</td>\n",
       "      <td>0.000000</td>\n",
       "      <td>0.000000</td>\n",
       "      <td>0.000000</td>\n",
       "      <td>0.000000</td>\n",
       "      <td>0.000000</td>\n",
       "    </tr>\n",
       "    <tr>\n",
       "      <th>1</th>\n",
       "      <td>0.0</td>\n",
       "      <td>1.855</td>\n",
       "      <td>1.519799</td>\n",
       "      <td>0.217604</td>\n",
       "      <td>0.098839</td>\n",
       "      <td>0.026744</td>\n",
       "      <td>0.010636</td>\n",
       "      <td>0.003356</td>\n",
       "      <td>0.001268</td>\n",
       "      <td>0.000423</td>\n",
       "      <td>0.000156</td>\n",
       "      <td>0.000053</td>\n",
       "      <td>3.733880</td>\n",
       "    </tr>\n",
       "    <tr>\n",
       "      <th>2</th>\n",
       "      <td>2.5</td>\n",
       "      <td>1.855</td>\n",
       "      <td>1.022949</td>\n",
       "      <td>0.470808</td>\n",
       "      <td>0.120008</td>\n",
       "      <td>0.049282</td>\n",
       "      <td>0.015067</td>\n",
       "      <td>0.005813</td>\n",
       "      <td>0.001905</td>\n",
       "      <td>0.000711</td>\n",
       "      <td>0.000240</td>\n",
       "      <td>0.000088</td>\n",
       "      <td>3.541871</td>\n",
       "    </tr>\n",
       "    <tr>\n",
       "      <th>3</th>\n",
       "      <td>5.0</td>\n",
       "      <td>1.855</td>\n",
       "      <td>0.898464</td>\n",
       "      <td>0.386640</td>\n",
       "      <td>0.149480</td>\n",
       "      <td>0.048029</td>\n",
       "      <td>0.018435</td>\n",
       "      <td>0.006080</td>\n",
       "      <td>0.002279</td>\n",
       "      <td>0.000767</td>\n",
       "      <td>0.000283</td>\n",
       "      <td>0.000096</td>\n",
       "      <td>3.365553</td>\n",
       "    </tr>\n",
       "    <tr>\n",
       "      <th>4</th>\n",
       "      <td>7.5</td>\n",
       "      <td>1.855</td>\n",
       "      <td>0.814010</td>\n",
       "      <td>0.284460</td>\n",
       "      <td>0.118211</td>\n",
       "      <td>0.043389</td>\n",
       "      <td>0.015163</td>\n",
       "      <td>0.005623</td>\n",
       "      <td>0.001913</td>\n",
       "      <td>0.000705</td>\n",
       "      <td>0.000241</td>\n",
       "      <td>0.000088</td>\n",
       "      <td>3.138802</td>\n",
       "    </tr>\n",
       "    <tr>\n",
       "      <th>5</th>\n",
       "      <td>10.0</td>\n",
       "      <td>1.855</td>\n",
       "      <td>0.450029</td>\n",
       "      <td>0.183364</td>\n",
       "      <td>0.065633</td>\n",
       "      <td>0.026520</td>\n",
       "      <td>0.009584</td>\n",
       "      <td>0.003376</td>\n",
       "      <td>0.001234</td>\n",
       "      <td>0.000425</td>\n",
       "      <td>0.000155</td>\n",
       "      <td>0.000053</td>\n",
       "      <td>2.595372</td>\n",
       "    </tr>\n",
       "  </tbody>\n",
       "</table>\n",
       "</div>"
      ],
      "text/plain": [
       "    pos      0         1         2         3         4         5         6  \\\n",
       "0  -2.5  0.000  0.000000  0.000000  0.000000  0.000000  0.000000  0.000000   \n",
       "1   0.0  1.855  1.519799  0.217604  0.098839  0.026744  0.010636  0.003356   \n",
       "2   2.5  1.855  1.022949  0.470808  0.120008  0.049282  0.015067  0.005813   \n",
       "3   5.0  1.855  0.898464  0.386640  0.149480  0.048029  0.018435  0.006080   \n",
       "4   7.5  1.855  0.814010  0.284460  0.118211  0.043389  0.015163  0.005623   \n",
       "5  10.0  1.855  0.450029  0.183364  0.065633  0.026520  0.009584  0.003376   \n",
       "\n",
       "          7         8         9        10     final  \n",
       "0  0.000000  0.000000  0.000000  0.000000  0.000000  \n",
       "1  0.001268  0.000423  0.000156  0.000053  3.733880  \n",
       "2  0.001905  0.000711  0.000240  0.000088  3.541871  \n",
       "3  0.002279  0.000767  0.000283  0.000096  3.365553  \n",
       "4  0.001913  0.000705  0.000241  0.000088  3.138802  \n",
       "5  0.001234  0.000425  0.000155  0.000053  2.595372  "
      ]
     },
     "execution_count": 59,
     "metadata": {},
     "output_type": "execute_result"
    }
   ],
   "source": [
    "# Dipoles at 2.5 Angstrom\n",
    "dipole"
   ]
  },
  {
   "cell_type": "markdown",
   "metadata": {},
   "source": [
    "As expected from the increases in the dipoles, the induction energy has increased at each iteration due to the charge induced field. The final induction energy is about twice the magnitude as without the ion. "
   ]
  },
  {
   "cell_type": "code",
   "execution_count": 60,
   "metadata": {},
   "outputs": [
    {
     "data": {
      "text/html": [
       "<div>\n",
       "<style scoped>\n",
       "    .dataframe tbody tr th:only-of-type {\n",
       "        vertical-align: middle;\n",
       "    }\n",
       "\n",
       "    .dataframe tbody tr th {\n",
       "        vertical-align: top;\n",
       "    }\n",
       "\n",
       "    .dataframe thead th {\n",
       "        text-align: right;\n",
       "    }\n",
       "</style>\n",
       "<table border=\"1\" class=\"dataframe\">\n",
       "  <thead>\n",
       "    <tr style=\"text-align: right;\">\n",
       "      <th></th>\n",
       "      <th>0</th>\n",
       "      <th>1</th>\n",
       "      <th>2</th>\n",
       "      <th>3</th>\n",
       "      <th>4</th>\n",
       "      <th>5</th>\n",
       "      <th>6</th>\n",
       "      <th>7</th>\n",
       "      <th>8</th>\n",
       "      <th>9</th>\n",
       "      <th>10</th>\n",
       "    </tr>\n",
       "  </thead>\n",
       "  <tbody>\n",
       "    <tr>\n",
       "      <th>0</th>\n",
       "      <td>-0.039773</td>\n",
       "      <td>-0.067303</td>\n",
       "      <td>-0.079118</td>\n",
       "      <td>-0.083435</td>\n",
       "      <td>-0.084997</td>\n",
       "      <td>-0.085549</td>\n",
       "      <td>-0.085745</td>\n",
       "      <td>-0.085814</td>\n",
       "      <td>-0.085839</td>\n",
       "      <td>-0.085847</td>\n",
       "      <td>-0.08585</td>\n",
       "    </tr>\n",
       "  </tbody>\n",
       "</table>\n",
       "</div>"
      ],
      "text/plain": [
       "          0         1         2         3         4         5         6  \\\n",
       "0 -0.039773 -0.067303 -0.079118 -0.083435 -0.084997 -0.085549 -0.085745   \n",
       "\n",
       "          7         8         9       10  \n",
       "0 -0.085814 -0.085839 -0.085847 -0.08585  "
      ]
     },
     "execution_count": 60,
     "metadata": {},
     "output_type": "execute_result"
    }
   ],
   "source": [
    "# Induction energy at 2.5 Angstrom\n",
    "induction*hartree"
   ]
  },
  {
   "cell_type": "markdown",
   "metadata": {},
   "source": [
    "Due to the introduction of a positive ion, the total electrostatic energy has become positive. This is because the positive charge-dipole terms are larger than the negative dipole-dipole terms. At each iteration past the first, the electrostatic energy falls, because the magnitude of the dipoles and hence the dipole-dipole terms is increased due to induction. "
   ]
  },
  {
   "cell_type": "code",
   "execution_count": 61,
   "metadata": {},
   "outputs": [
    {
     "data": {
      "text/html": [
       "<div>\n",
       "<style scoped>\n",
       "    .dataframe tbody tr th:only-of-type {\n",
       "        vertical-align: middle;\n",
       "    }\n",
       "\n",
       "    .dataframe tbody tr th {\n",
       "        vertical-align: top;\n",
       "    }\n",
       "\n",
       "    .dataframe thead th {\n",
       "        text-align: right;\n",
       "    }\n",
       "</style>\n",
       "<table border=\"1\" class=\"dataframe\">\n",
       "  <thead>\n",
       "    <tr style=\"text-align: right;\">\n",
       "      <th></th>\n",
       "      <th>0</th>\n",
       "      <th>1</th>\n",
       "      <th>2</th>\n",
       "      <th>3</th>\n",
       "      <th>4</th>\n",
       "      <th>5</th>\n",
       "      <th>6</th>\n",
       "      <th>7</th>\n",
       "      <th>8</th>\n",
       "      <th>9</th>\n",
       "      <th>10</th>\n",
       "    </tr>\n",
       "  </thead>\n",
       "  <tbody>\n",
       "    <tr>\n",
       "      <th>0</th>\n",
       "      <td>0.050612</td>\n",
       "      <td>0.062226</td>\n",
       "      <td>0.050377</td>\n",
       "      <td>0.046092</td>\n",
       "      <td>0.044237</td>\n",
       "      <td>0.043604</td>\n",
       "      <td>0.043367</td>\n",
       "      <td>0.043285</td>\n",
       "      <td>0.043256</td>\n",
       "      <td>0.043245</td>\n",
       "      <td>0.043242</td>\n",
       "    </tr>\n",
       "  </tbody>\n",
       "</table>\n",
       "</div>"
      ],
      "text/plain": [
       "          0         1         2         3         4         5         6  \\\n",
       "0  0.050612  0.062226  0.050377  0.046092  0.044237  0.043604  0.043367   \n",
       "\n",
       "          7         8         9        10  \n",
       "0  0.043285  0.043256  0.043245  0.043242  "
      ]
     },
     "execution_count": 61,
     "metadata": {},
     "output_type": "execute_result"
    }
   ],
   "source": [
    "# Electrostatic energy at 2.5 Angstrom\n",
    "electrostatic*hartree"
   ]
  },
  {
   "cell_type": "markdown",
   "metadata": {},
   "source": [
    "The total energy is still negative because at short separations, the negative induction energy is larger in magnitude than the electrostatic energy. "
   ]
  },
  {
   "cell_type": "code",
   "execution_count": 62,
   "metadata": {},
   "outputs": [
    {
     "data": {
      "text/html": [
       "<div>\n",
       "<style scoped>\n",
       "    .dataframe tbody tr th:only-of-type {\n",
       "        vertical-align: middle;\n",
       "    }\n",
       "\n",
       "    .dataframe tbody tr th {\n",
       "        vertical-align: top;\n",
       "    }\n",
       "\n",
       "    .dataframe thead th {\n",
       "        text-align: right;\n",
       "    }\n",
       "</style>\n",
       "<table border=\"1\" class=\"dataframe\">\n",
       "  <thead>\n",
       "    <tr style=\"text-align: right;\">\n",
       "      <th></th>\n",
       "      <th>0</th>\n",
       "      <th>1</th>\n",
       "      <th>2</th>\n",
       "      <th>3</th>\n",
       "      <th>4</th>\n",
       "      <th>5</th>\n",
       "      <th>6</th>\n",
       "      <th>7</th>\n",
       "      <th>8</th>\n",
       "      <th>9</th>\n",
       "      <th>10</th>\n",
       "    </tr>\n",
       "  </thead>\n",
       "  <tbody>\n",
       "    <tr>\n",
       "      <th>0</th>\n",
       "      <td>0.010839</td>\n",
       "      <td>-0.005077</td>\n",
       "      <td>-0.028741</td>\n",
       "      <td>-0.037343</td>\n",
       "      <td>-0.04076</td>\n",
       "      <td>-0.041945</td>\n",
       "      <td>-0.042378</td>\n",
       "      <td>-0.042529</td>\n",
       "      <td>-0.042583</td>\n",
       "      <td>-0.042602</td>\n",
       "      <td>-0.042609</td>\n",
       "    </tr>\n",
       "  </tbody>\n",
       "</table>\n",
       "</div>"
      ],
      "text/plain": [
       "          0         1         2         3        4         5         6  \\\n",
       "0  0.010839 -0.005077 -0.028741 -0.037343 -0.04076 -0.041945 -0.042378   \n",
       "\n",
       "          7         8         9        10  \n",
       "0 -0.042529 -0.042583 -0.042602 -0.042609  "
      ]
     },
     "execution_count": 62,
     "metadata": {},
     "output_type": "execute_result"
    }
   ],
   "source": [
    "# Total energy at 2.5 Angstrom\n",
    "(induction+electrostatic)*hartree"
   ]
  },
  {
   "cell_type": "markdown",
   "metadata": {},
   "source": [
    "## Calculation with 3.5 and 4.5 Angstrom\n",
    "The same calculation is now repeated with 3.5 Angstrom and 4.5 Angstrom separation. "
   ]
  },
  {
   "cell_type": "code",
   "execution_count": 63,
   "metadata": {},
   "outputs": [],
   "source": [
    "# Calculation of dipoles and energies iteratively at 3.5 Angstrom\n",
    "mol_orig=[[-1,0,1*e],[0,mu_0,0],[1,mu_0,0],[2,mu_0,0],[3,mu_0,0],[4,mu_0,0]]\n",
    "dipole, induction, electrostatic, dipole_added , energies = \\\n",
    "    dipoles_and_induction(mol_orig,3.5*angstrom)"
   ]
  },
  {
   "cell_type": "code",
   "execution_count": 64,
   "metadata": {},
   "outputs": [
    {
     "data": {
      "text/html": [
       "<div>\n",
       "<style scoped>\n",
       "    .dataframe tbody tr th:only-of-type {\n",
       "        vertical-align: middle;\n",
       "    }\n",
       "\n",
       "    .dataframe tbody tr th {\n",
       "        vertical-align: top;\n",
       "    }\n",
       "\n",
       "    .dataframe thead th {\n",
       "        text-align: right;\n",
       "    }\n",
       "</style>\n",
       "<table border=\"1\" class=\"dataframe\">\n",
       "  <thead>\n",
       "    <tr style=\"text-align: right;\">\n",
       "      <th></th>\n",
       "      <th>pos</th>\n",
       "      <th>0</th>\n",
       "      <th>1</th>\n",
       "      <th>2</th>\n",
       "      <th>3</th>\n",
       "      <th>4</th>\n",
       "      <th>5</th>\n",
       "      <th>6</th>\n",
       "      <th>final</th>\n",
       "    </tr>\n",
       "  </thead>\n",
       "  <tbody>\n",
       "    <tr>\n",
       "      <th>0</th>\n",
       "      <td>-3.5</td>\n",
       "      <td>0.000</td>\n",
       "      <td>0.000000</td>\n",
       "      <td>0.000000</td>\n",
       "      <td>0.000000</td>\n",
       "      <td>0.000000</td>\n",
       "      <td>0.000000</td>\n",
       "      <td>0.000000</td>\n",
       "      <td>0.000000</td>\n",
       "    </tr>\n",
       "    <tr>\n",
       "      <th>1</th>\n",
       "      <td>0.0</td>\n",
       "      <td>1.855</td>\n",
       "      <td>0.716303</td>\n",
       "      <td>0.031832</td>\n",
       "      <td>0.005665</td>\n",
       "      <td>0.000519</td>\n",
       "      <td>0.000078</td>\n",
       "      <td>0.000009</td>\n",
       "      <td>2.609406</td>\n",
       "    </tr>\n",
       "    <tr>\n",
       "      <th>2</th>\n",
       "      <td>3.5</td>\n",
       "      <td>1.855</td>\n",
       "      <td>0.413405</td>\n",
       "      <td>0.074838</td>\n",
       "      <td>0.006359</td>\n",
       "      <td>0.001003</td>\n",
       "      <td>0.000106</td>\n",
       "      <td>0.000015</td>\n",
       "      <td>2.350728</td>\n",
       "    </tr>\n",
       "    <tr>\n",
       "      <th>3</th>\n",
       "      <td>7.0</td>\n",
       "      <td>1.855</td>\n",
       "      <td>0.345478</td>\n",
       "      <td>0.056212</td>\n",
       "      <td>0.008265</td>\n",
       "      <td>0.000929</td>\n",
       "      <td>0.000135</td>\n",
       "      <td>0.000016</td>\n",
       "      <td>2.266033</td>\n",
       "    </tr>\n",
       "    <tr>\n",
       "      <th>4</th>\n",
       "      <td>10.5</td>\n",
       "      <td>1.855</td>\n",
       "      <td>0.306803</td>\n",
       "      <td>0.040190</td>\n",
       "      <td>0.006237</td>\n",
       "      <td>0.000858</td>\n",
       "      <td>0.000107</td>\n",
       "      <td>0.000015</td>\n",
       "      <td>2.209210</td>\n",
       "    </tr>\n",
       "    <tr>\n",
       "      <th>5</th>\n",
       "      <td>14.0</td>\n",
       "      <td>1.855</td>\n",
       "      <td>0.170502</td>\n",
       "      <td>0.025465</td>\n",
       "      <td>0.003415</td>\n",
       "      <td>0.000514</td>\n",
       "      <td>0.000069</td>\n",
       "      <td>0.000009</td>\n",
       "      <td>2.054974</td>\n",
       "    </tr>\n",
       "  </tbody>\n",
       "</table>\n",
       "</div>"
      ],
      "text/plain": [
       "    pos      0         1         2         3         4         5         6  \\\n",
       "0  -3.5  0.000  0.000000  0.000000  0.000000  0.000000  0.000000  0.000000   \n",
       "1   0.0  1.855  0.716303  0.031832  0.005665  0.000519  0.000078  0.000009   \n",
       "2   3.5  1.855  0.413405  0.074838  0.006359  0.001003  0.000106  0.000015   \n",
       "3   7.0  1.855  0.345478  0.056212  0.008265  0.000929  0.000135  0.000016   \n",
       "4  10.5  1.855  0.306803  0.040190  0.006237  0.000858  0.000107  0.000015   \n",
       "5  14.0  1.855  0.170502  0.025465  0.003415  0.000514  0.000069  0.000009   \n",
       "\n",
       "      final  \n",
       "0  0.000000  \n",
       "1  2.609406  \n",
       "2  2.350728  \n",
       "3  2.266033  \n",
       "4  2.209210  \n",
       "5  2.054974  "
      ]
     },
     "execution_count": 64,
     "metadata": {},
     "output_type": "execute_result"
    }
   ],
   "source": [
    "# Dipoles at 3.5 Angstrom\n",
    "dipole"
   ]
  },
  {
   "cell_type": "code",
   "execution_count": 65,
   "metadata": {},
   "outputs": [
    {
     "data": {
      "text/html": [
       "<div>\n",
       "<style scoped>\n",
       "    .dataframe tbody tr th:only-of-type {\n",
       "        vertical-align: middle;\n",
       "    }\n",
       "\n",
       "    .dataframe tbody tr th {\n",
       "        vertical-align: top;\n",
       "    }\n",
       "\n",
       "    .dataframe thead th {\n",
       "        text-align: right;\n",
       "    }\n",
       "</style>\n",
       "<table border=\"1\" class=\"dataframe\">\n",
       "  <thead>\n",
       "    <tr style=\"text-align: right;\">\n",
       "      <th></th>\n",
       "      <th>0</th>\n",
       "      <th>1</th>\n",
       "      <th>2</th>\n",
       "      <th>3</th>\n",
       "      <th>4</th>\n",
       "      <th>5</th>\n",
       "      <th>6</th>\n",
       "    </tr>\n",
       "  </thead>\n",
       "  <tbody>\n",
       "    <tr>\n",
       "      <th>0</th>\n",
       "      <td>-0.007328</td>\n",
       "      <td>-0.008845</td>\n",
       "      <td>-0.00906</td>\n",
       "      <td>-0.009086</td>\n",
       "      <td>-0.00909</td>\n",
       "      <td>-0.00909</td>\n",
       "      <td>-0.00909</td>\n",
       "    </tr>\n",
       "  </tbody>\n",
       "</table>\n",
       "</div>"
      ],
      "text/plain": [
       "          0         1        2         3        4        5        6\n",
       "0 -0.007328 -0.008845 -0.00906 -0.009086 -0.00909 -0.00909 -0.00909"
      ]
     },
     "execution_count": 65,
     "metadata": {},
     "output_type": "execute_result"
    }
   ],
   "source": [
    "# Induction energy at 3.5 Angstrom\n",
    "induction*hartree"
   ]
  },
  {
   "cell_type": "code",
   "execution_count": 66,
   "metadata": {},
   "outputs": [
    {
     "data": {
      "text/html": [
       "<div>\n",
       "<style scoped>\n",
       "    .dataframe tbody tr th:only-of-type {\n",
       "        vertical-align: middle;\n",
       "    }\n",
       "\n",
       "    .dataframe tbody tr th {\n",
       "        vertical-align: top;\n",
       "    }\n",
       "\n",
       "    .dataframe thead th {\n",
       "        text-align: right;\n",
       "    }\n",
       "</style>\n",
       "<table border=\"1\" class=\"dataframe\">\n",
       "  <thead>\n",
       "    <tr style=\"text-align: right;\">\n",
       "      <th></th>\n",
       "      <th>0</th>\n",
       "      <th>1</th>\n",
       "      <th>2</th>\n",
       "      <th>3</th>\n",
       "      <th>4</th>\n",
       "      <th>5</th>\n",
       "      <th>6</th>\n",
       "    </tr>\n",
       "  </thead>\n",
       "  <tbody>\n",
       "    <tr>\n",
       "      <th>0</th>\n",
       "      <td>0.032398</td>\n",
       "      <td>0.040883</td>\n",
       "      <td>0.040887</td>\n",
       "      <td>0.040905</td>\n",
       "      <td>0.040904</td>\n",
       "      <td>0.040904</td>\n",
       "      <td>0.040904</td>\n",
       "    </tr>\n",
       "  </tbody>\n",
       "</table>\n",
       "</div>"
      ],
      "text/plain": [
       "          0         1         2         3         4         5         6\n",
       "0  0.032398  0.040883  0.040887  0.040905  0.040904  0.040904  0.040904"
      ]
     },
     "execution_count": 66,
     "metadata": {},
     "output_type": "execute_result"
    }
   ],
   "source": [
    "# Electrostatic energy at 3.5 Angstrom\n",
    "electrostatic*hartree"
   ]
  },
  {
   "cell_type": "markdown",
   "metadata": {},
   "source": [
    "At a separation of 3.5 Angstrom, the induction energy has become much smaller than the electrostatic energy and hence the total energy has become positive. "
   ]
  },
  {
   "cell_type": "code",
   "execution_count": 68,
   "metadata": {},
   "outputs": [
    {
     "data": {
      "text/html": [
       "<div>\n",
       "<style scoped>\n",
       "    .dataframe tbody tr th:only-of-type {\n",
       "        vertical-align: middle;\n",
       "    }\n",
       "\n",
       "    .dataframe tbody tr th {\n",
       "        vertical-align: top;\n",
       "    }\n",
       "\n",
       "    .dataframe thead th {\n",
       "        text-align: right;\n",
       "    }\n",
       "</style>\n",
       "<table border=\"1\" class=\"dataframe\">\n",
       "  <thead>\n",
       "    <tr style=\"text-align: right;\">\n",
       "      <th></th>\n",
       "      <th>0</th>\n",
       "      <th>1</th>\n",
       "      <th>2</th>\n",
       "      <th>3</th>\n",
       "      <th>4</th>\n",
       "      <th>5</th>\n",
       "      <th>6</th>\n",
       "    </tr>\n",
       "  </thead>\n",
       "  <tbody>\n",
       "    <tr>\n",
       "      <th>0</th>\n",
       "      <td>0.025069</td>\n",
       "      <td>0.032038</td>\n",
       "      <td>0.031827</td>\n",
       "      <td>0.031819</td>\n",
       "      <td>0.031814</td>\n",
       "      <td>0.031814</td>\n",
       "      <td>0.031814</td>\n",
       "    </tr>\n",
       "  </tbody>\n",
       "</table>\n",
       "</div>"
      ],
      "text/plain": [
       "          0         1         2         3         4         5         6\n",
       "0  0.025069  0.032038  0.031827  0.031819  0.031814  0.031814  0.031814"
      ]
     },
     "execution_count": 68,
     "metadata": {},
     "output_type": "execute_result"
    }
   ],
   "source": [
    "# Total energy at 3.5 Angstrom\n",
    "(induction+electrostatic)*hartree"
   ]
  },
  {
   "cell_type": "markdown",
   "metadata": {},
   "source": [
    "The same trends are observed at 3.5 Angstrom with smaller final dipoles and lower induction energy due to increased separation. The induction energy has again decreased more dramatically than the electrostatic energy due to the different dependence on $R$ as discussed previously. Six iteration are needed for convergence as was the case for the system without the ion."
   ]
  },
  {
   "cell_type": "markdown",
   "metadata": {},
   "source": [
    "Below, the results at 4.5 Angstrom are calculated and again the same trends are observed with an overall decrease in the magnitude of dipoles and energies. Four iterations are needed as for the no-ion system."
   ]
  },
  {
   "cell_type": "code",
   "execution_count": 69,
   "metadata": {},
   "outputs": [],
   "source": [
    "# Calculation of dipoles and energies iteratively at 4.5 Angstrom\n",
    "mol_orig=[[-1,0,1*e],[0,mu_0,0],[1,mu_0,0],[2,mu_0,0],[3,mu_0,0],[4,mu_0,0]]\n",
    "dipole, induction, electrostatic, dipole_added , energies = \\\n",
    "    dipoles_and_induction(mol_orig,4.5*angstrom)"
   ]
  },
  {
   "cell_type": "code",
   "execution_count": 70,
   "metadata": {},
   "outputs": [
    {
     "data": {
      "text/html": [
       "<div>\n",
       "<style scoped>\n",
       "    .dataframe tbody tr th:only-of-type {\n",
       "        vertical-align: middle;\n",
       "    }\n",
       "\n",
       "    .dataframe tbody tr th {\n",
       "        vertical-align: top;\n",
       "    }\n",
       "\n",
       "    .dataframe thead th {\n",
       "        text-align: right;\n",
       "    }\n",
       "</style>\n",
       "<table border=\"1\" class=\"dataframe\">\n",
       "  <thead>\n",
       "    <tr style=\"text-align: right;\">\n",
       "      <th></th>\n",
       "      <th>pos</th>\n",
       "      <th>0</th>\n",
       "      <th>1</th>\n",
       "      <th>2</th>\n",
       "      <th>3</th>\n",
       "      <th>4</th>\n",
       "      <th>final</th>\n",
       "    </tr>\n",
       "  </thead>\n",
       "  <tbody>\n",
       "    <tr>\n",
       "      <th>0</th>\n",
       "      <td>-4.5</td>\n",
       "      <td>0.000</td>\n",
       "      <td>0.000000</td>\n",
       "      <td>0.000000</td>\n",
       "      <td>0.000000</td>\n",
       "      <td>0.000000</td>\n",
       "      <td>0.000000</td>\n",
       "    </tr>\n",
       "    <tr>\n",
       "      <th>1</th>\n",
       "      <td>0.0</td>\n",
       "      <td>1.855</td>\n",
       "      <td>0.413456</td>\n",
       "      <td>0.007696</td>\n",
       "      <td>0.000682</td>\n",
       "      <td>0.000028</td>\n",
       "      <td>2.276861</td>\n",
       "    </tr>\n",
       "    <tr>\n",
       "      <th>2</th>\n",
       "      <td>4.5</td>\n",
       "      <td>1.855</td>\n",
       "      <td>0.213618</td>\n",
       "      <td>0.019293</td>\n",
       "      <td>0.000720</td>\n",
       "      <td>0.000056</td>\n",
       "      <td>2.088686</td>\n",
       "    </tr>\n",
       "    <tr>\n",
       "      <th>3</th>\n",
       "      <td>9.0</td>\n",
       "      <td>1.855</td>\n",
       "      <td>0.171042</td>\n",
       "      <td>0.013520</td>\n",
       "      <td>0.000968</td>\n",
       "      <td>0.000050</td>\n",
       "      <td>2.040580</td>\n",
       "    </tr>\n",
       "    <tr>\n",
       "      <th>4</th>\n",
       "      <td>13.5</td>\n",
       "      <td>1.855</td>\n",
       "      <td>0.149130</td>\n",
       "      <td>0.009431</td>\n",
       "      <td>0.000703</td>\n",
       "      <td>0.000047</td>\n",
       "      <td>2.014311</td>\n",
       "    </tr>\n",
       "    <tr>\n",
       "      <th>5</th>\n",
       "      <td>18.0</td>\n",
       "      <td>1.855</td>\n",
       "      <td>0.083280</td>\n",
       "      <td>0.005884</td>\n",
       "      <td>0.000380</td>\n",
       "      <td>0.000027</td>\n",
       "      <td>1.944571</td>\n",
       "    </tr>\n",
       "  </tbody>\n",
       "</table>\n",
       "</div>"
      ],
      "text/plain": [
       "    pos      0         1         2         3         4     final\n",
       "0  -4.5  0.000  0.000000  0.000000  0.000000  0.000000  0.000000\n",
       "1   0.0  1.855  0.413456  0.007696  0.000682  0.000028  2.276861\n",
       "2   4.5  1.855  0.213618  0.019293  0.000720  0.000056  2.088686\n",
       "3   9.0  1.855  0.171042  0.013520  0.000968  0.000050  2.040580\n",
       "4  13.5  1.855  0.149130  0.009431  0.000703  0.000047  2.014311\n",
       "5  18.0  1.855  0.083280  0.005884  0.000380  0.000027  1.944571"
      ]
     },
     "execution_count": 70,
     "metadata": {},
     "output_type": "execute_result"
    }
   ],
   "source": [
    "# Dipoles at 4.5 Angstrom\n",
    "dipole"
   ]
  },
  {
   "cell_type": "code",
   "execution_count": 71,
   "metadata": {},
   "outputs": [
    {
     "data": {
      "text/html": [
       "<div>\n",
       "<style scoped>\n",
       "    .dataframe tbody tr th:only-of-type {\n",
       "        vertical-align: middle;\n",
       "    }\n",
       "\n",
       "    .dataframe tbody tr th {\n",
       "        vertical-align: top;\n",
       "    }\n",
       "\n",
       "    .dataframe thead th {\n",
       "        text-align: right;\n",
       "    }\n",
       "</style>\n",
       "<table border=\"1\" class=\"dataframe\">\n",
       "  <thead>\n",
       "    <tr style=\"text-align: right;\">\n",
       "      <th></th>\n",
       "      <th>0</th>\n",
       "      <th>1</th>\n",
       "      <th>2</th>\n",
       "      <th>3</th>\n",
       "      <th>4</th>\n",
       "    </tr>\n",
       "  </thead>\n",
       "  <tbody>\n",
       "    <tr>\n",
       "      <th>0</th>\n",
       "      <td>-0.002175</td>\n",
       "      <td>-0.002363</td>\n",
       "      <td>-0.002375</td>\n",
       "      <td>-0.002376</td>\n",
       "      <td>-0.002376</td>\n",
       "    </tr>\n",
       "  </tbody>\n",
       "</table>\n",
       "</div>"
      ],
      "text/plain": [
       "          0         1         2         3         4\n",
       "0 -0.002175 -0.002363 -0.002375 -0.002376 -0.002376"
      ]
     },
     "execution_count": 71,
     "metadata": {},
     "output_type": "execute_result"
    }
   ],
   "source": [
    "# Induction energy at 4.5 Angstrom\n",
    "induction*hartree"
   ]
  },
  {
   "cell_type": "code",
   "execution_count": 72,
   "metadata": {},
   "outputs": [
    {
     "data": {
      "text/html": [
       "<div>\n",
       "<style scoped>\n",
       "    .dataframe tbody tr th:only-of-type {\n",
       "        vertical-align: middle;\n",
       "    }\n",
       "\n",
       "    .dataframe tbody tr th {\n",
       "        vertical-align: top;\n",
       "    }\n",
       "\n",
       "    .dataframe thead th {\n",
       "        text-align: right;\n",
       "    }\n",
       "</style>\n",
       "<table border=\"1\" class=\"dataframe\">\n",
       "  <thead>\n",
       "    <tr style=\"text-align: right;\">\n",
       "      <th></th>\n",
       "      <th>0</th>\n",
       "      <th>1</th>\n",
       "      <th>2</th>\n",
       "      <th>3</th>\n",
       "      <th>4</th>\n",
       "    </tr>\n",
       "  </thead>\n",
       "  <tbody>\n",
       "    <tr>\n",
       "      <th>0</th>\n",
       "      <td>0.021808</td>\n",
       "      <td>0.025504</td>\n",
       "      <td>0.025552</td>\n",
       "      <td>0.025556</td>\n",
       "      <td>0.025557</td>\n",
       "    </tr>\n",
       "  </tbody>\n",
       "</table>\n",
       "</div>"
      ],
      "text/plain": [
       "          0         1         2         3         4\n",
       "0  0.021808  0.025504  0.025552  0.025556  0.025557"
      ]
     },
     "execution_count": 72,
     "metadata": {},
     "output_type": "execute_result"
    }
   ],
   "source": [
    "# Electrostatic energy at 4.5 Angstrom\n",
    "electrostatic*hartree"
   ]
  },
  {
   "cell_type": "markdown",
   "metadata": {},
   "source": [
    "The total energy is again positive but smaller than at 3.5 Angstrom due to the decrease in electrostatic energy at larger distances."
   ]
  },
  {
   "cell_type": "code",
   "execution_count": 73,
   "metadata": {},
   "outputs": [
    {
     "data": {
      "text/html": [
       "<div>\n",
       "<style scoped>\n",
       "    .dataframe tbody tr th:only-of-type {\n",
       "        vertical-align: middle;\n",
       "    }\n",
       "\n",
       "    .dataframe tbody tr th {\n",
       "        vertical-align: top;\n",
       "    }\n",
       "\n",
       "    .dataframe thead th {\n",
       "        text-align: right;\n",
       "    }\n",
       "</style>\n",
       "<table border=\"1\" class=\"dataframe\">\n",
       "  <thead>\n",
       "    <tr style=\"text-align: right;\">\n",
       "      <th></th>\n",
       "      <th>0</th>\n",
       "      <th>1</th>\n",
       "      <th>2</th>\n",
       "      <th>3</th>\n",
       "      <th>4</th>\n",
       "    </tr>\n",
       "  </thead>\n",
       "  <tbody>\n",
       "    <tr>\n",
       "      <th>0</th>\n",
       "      <td>0.019633</td>\n",
       "      <td>0.023141</td>\n",
       "      <td>0.023177</td>\n",
       "      <td>0.02318</td>\n",
       "      <td>0.02318</td>\n",
       "    </tr>\n",
       "  </tbody>\n",
       "</table>\n",
       "</div>"
      ],
      "text/plain": [
       "          0         1         2        3        4\n",
       "0  0.019633  0.023141  0.023177  0.02318  0.02318"
      ]
     },
     "execution_count": 73,
     "metadata": {},
     "output_type": "execute_result"
    }
   ],
   "source": [
    "# Total energy at 4.5 Angstrom\n",
    "(induction+electrostatic)*hartree"
   ]
  },
  {
   "cell_type": "markdown",
   "metadata": {},
   "source": [
    "## How does the increase in induced dipoles due to this charge (ie. compared to part (i)) compare to the individual induced dipoles that q would induce in molecules 1 to 5, each in the absence of the other water molecules?"
   ]
  },
  {
   "cell_type": "markdown",
   "metadata": {},
   "source": [
    "First consider the total increase in induction energy by adding the ion to the system. This is calculated by subtracting the induction energy in question 1 from the induction energy calculated with the ion. A distance of 2.5 Angstrom is used for this analysis."
   ]
  },
  {
   "cell_type": "code",
   "execution_count": 151,
   "metadata": {},
   "outputs": [
    {
     "data": {
      "text/html": [
       "<div>\n",
       "<style scoped>\n",
       "    .dataframe tbody tr th:only-of-type {\n",
       "        vertical-align: middle;\n",
       "    }\n",
       "\n",
       "    .dataframe tbody tr th {\n",
       "        vertical-align: top;\n",
       "    }\n",
       "\n",
       "    .dataframe thead th {\n",
       "        text-align: right;\n",
       "    }\n",
       "</style>\n",
       "<table border=\"1\" class=\"dataframe\">\n",
       "  <thead>\n",
       "    <tr style=\"text-align: right;\">\n",
       "      <th></th>\n",
       "      <th>1</th>\n",
       "      <th>2</th>\n",
       "      <th>3</th>\n",
       "      <th>4</th>\n",
       "      <th>5</th>\n",
       "      <th>6</th>\n",
       "      <th>7</th>\n",
       "      <th>8</th>\n",
       "      <th>9</th>\n",
       "      <th>10</th>\n",
       "      <th>final</th>\n",
       "    </tr>\n",
       "  </thead>\n",
       "  <tbody>\n",
       "    <tr>\n",
       "      <th>0</th>\n",
       "      <td>1.114344</td>\n",
       "      <td>0.055186</td>\n",
       "      <td>0.045504</td>\n",
       "      <td>0.006729</td>\n",
       "      <td>0.003908</td>\n",
       "      <td>0.000875</td>\n",
       "      <td>0.000422</td>\n",
       "      <td>0.000115</td>\n",
       "      <td>0.000050</td>\n",
       "      <td>0.000015</td>\n",
       "      <td>1.227147</td>\n",
       "    </tr>\n",
       "    <tr>\n",
       "      <th>1</th>\n",
       "      <td>0.278586</td>\n",
       "      <td>0.231725</td>\n",
       "      <td>0.028425</td>\n",
       "      <td>0.019021</td>\n",
       "      <td>0.003743</td>\n",
       "      <td>0.001998</td>\n",
       "      <td>0.000501</td>\n",
       "      <td>0.000232</td>\n",
       "      <td>0.000066</td>\n",
       "      <td>0.000028</td>\n",
       "      <td>0.564325</td>\n",
       "    </tr>\n",
       "    <tr>\n",
       "      <th>2</th>\n",
       "      <td>0.123816</td>\n",
       "      <td>0.091519</td>\n",
       "      <td>0.053196</td>\n",
       "      <td>0.011559</td>\n",
       "      <td>0.006274</td>\n",
       "      <td>0.001564</td>\n",
       "      <td>0.000748</td>\n",
       "      <td>0.000206</td>\n",
       "      <td>0.000090</td>\n",
       "      <td>0.000027</td>\n",
       "      <td>0.288999</td>\n",
       "    </tr>\n",
       "    <tr>\n",
       "      <th>3</th>\n",
       "      <td>0.069646</td>\n",
       "      <td>0.045376</td>\n",
       "      <td>0.026629</td>\n",
       "      <td>0.013128</td>\n",
       "      <td>0.003840</td>\n",
       "      <td>0.001808</td>\n",
       "      <td>0.000509</td>\n",
       "      <td>0.000225</td>\n",
       "      <td>0.000066</td>\n",
       "      <td>0.000028</td>\n",
       "      <td>0.161256</td>\n",
       "    </tr>\n",
       "    <tr>\n",
       "      <th>4</th>\n",
       "      <td>0.044574</td>\n",
       "      <td>0.020946</td>\n",
       "      <td>0.012298</td>\n",
       "      <td>0.006504</td>\n",
       "      <td>0.002855</td>\n",
       "      <td>0.000895</td>\n",
       "      <td>0.000388</td>\n",
       "      <td>0.000116</td>\n",
       "      <td>0.000049</td>\n",
       "      <td>0.000015</td>\n",
       "      <td>0.088640</td>\n",
       "    </tr>\n",
       "  </tbody>\n",
       "</table>\n",
       "</div>"
      ],
      "text/plain": [
       "          1         2         3         4         5         6         7  \\\n",
       "0  1.114344  0.055186  0.045504  0.006729  0.003908  0.000875  0.000422   \n",
       "1  0.278586  0.231725  0.028425  0.019021  0.003743  0.001998  0.000501   \n",
       "2  0.123816  0.091519  0.053196  0.011559  0.006274  0.001564  0.000748   \n",
       "3  0.069646  0.045376  0.026629  0.013128  0.003840  0.001808  0.000509   \n",
       "4  0.044574  0.020946  0.012298  0.006504  0.002855  0.000895  0.000388   \n",
       "\n",
       "          8         9        10     final  \n",
       "0  0.000115  0.000050  0.000015  1.227147  \n",
       "1  0.000232  0.000066  0.000028  0.564325  \n",
       "2  0.000206  0.000090  0.000027  0.288999  \n",
       "3  0.000225  0.000066  0.000028  0.161256  \n",
       "4  0.000116  0.000049  0.000015  0.088640  "
      ]
     },
     "execution_count": 151,
     "metadata": {},
     "output_type": "execute_result"
    }
   ],
   "source": [
    "# Calc dipoles and energies with ion\n",
    "mol_orig=[[-1,0,1*e],[0,mu_0,0],[1,mu_0,0],[2,mu_0,0],[3,mu_0,0],[4,mu_0,0]]\n",
    "dipole_new, induction_new, electrostatic_new, dipole_added_new , energies_new = \\\n",
    "    dipoles_and_induction(mol_orig,2.5*angstrom)\n",
    "# Calc dipoles and energies without ion\n",
    "mol_orig=[[0,mu_0,0],[1,mu_0,0],[2,mu_0,0],[3,mu_0,0],[4,mu_0,0]]\n",
    "dipole, induction, electrostatic, dipole_added,energies = \\\n",
    "    dipoles_and_induction(mol_orig,2.5*angstrom)\n",
    "# Change in dipoles due to ion at each iteration\n",
    "x=dipole_new.loc[\"1\":,:]\n",
    "x.reset_index(drop=True,inplace=True)\n",
    "(x-dipole).loc[:,\"1\":]"
   ]
  },
  {
   "cell_type": "markdown",
   "metadata": {},
   "source": [
    "The table above shows the increase in induced dipoles due to the introduction of the ion to the system of dipoles. Indices 0 to 4 represent the dipoles from the left (0) to right (4) in positive z-direction. As discussed above, the inductive effect of the ion is most pronounced closest to the ion. "
   ]
  },
  {
   "cell_type": "markdown",
   "metadata": {},
   "source": [
    "Consider now the magnitude of the dipole induced in an individual dipole molecule in the absence of the other dipoles. Below, the induced dipole due to the ion onto dipoles 0 through 4 in the absence of all other dipoles are calculated. When compared to the increase in dipole due to the introduction of the ion into the system of dipoles above, the dipoles induced in isolated dipoles are smaller. This is because when other dipoles are present, these other dipoles also experience an induced dipole due to the ion which, in the next iteration, will induce a dipole in the other molecules. This secondary induction does not occur if only a single dipole is present. In this case, induction occurs only once, in a single iteration, because the ion itself cannot be polarised. "
   ]
  },
  {
   "cell_type": "code",
   "execution_count": 153,
   "metadata": {},
   "outputs": [
    {
     "data": {
      "text/plain": [
       "Molecule 0    1.114344\n",
       "Molecule 1    0.278586\n",
       "Molecule 2    0.123816\n",
       "Molecule 3    0.069646\n",
       "Molecule 4    0.044574\n",
       "dtype: float64"
      ]
     },
     "execution_count": 153,
     "metadata": {},
     "output_type": "execute_result"
    }
   ],
   "source": [
    "# Calculate induced dipole in molecules in absence of other molecules\n",
    "temp_dict={}\n",
    "for i in range(0,5):\n",
    "    mol_orig=[[-1,0,1*e],[float(i),mu_0,0]]\n",
    "    dipole, induction, electrostatic, dipole_added,energies = \\\n",
    "        dipoles_and_induction(mol_orig,2.5*angstrom)\n",
    "    temp_dict['Molecule '+str(i)]=dipole['1'][1]\n",
    "induced_dipoles=pd.Series(temp_dict)\n",
    "induced_dipoles"
   ]
  },
  {
   "cell_type": "markdown",
   "metadata": {},
   "source": [
    "# Question 4"
   ]
  },
  {
   "cell_type": "markdown",
   "metadata": {},
   "source": [
    "We now use the enhanced dipoles calculated in question 2 in the ion system. First, set up the new list with dipoles set to the enhanced dipole at 2.5 Angstrom. "
   ]
  },
  {
   "cell_type": "code",
   "execution_count": 100,
   "metadata": {},
   "outputs": [],
   "source": [
    "#set up system with enhanced dipoles\n",
    "mol_orig=[[-1,0,1*e],[0,mu_2_5,0],[1,mu_2_5,0],[2,mu_2_5,0],[3,mu_2_5,0],[4,mu_2_5,0]]"
   ]
  },
  {
   "cell_type": "markdown",
   "metadata": {},
   "source": [
    "Next, use the electrostatic energy function to calculate the total electrostatic energy of the system with the enhanced dipoles. This energy is then compared to the total electrostatic+induction energy of $total\\_energy=-0.042609$ Hartree from question 3."
   ]
  },
  {
   "cell_type": "code",
   "execution_count": 154,
   "metadata": {},
   "outputs": [
    {
     "data": {
      "text/plain": [
       "0.002615944184656311"
      ]
     },
     "execution_count": 154,
     "metadata": {},
     "output_type": "execute_result"
    }
   ],
   "source": [
    "total_energy=-0.042609\n",
    "# Calc electrostatic energy for system with enhacned dipole\n",
    "elec_static_enhanced=calc_electrostatic(mol_orig,2.5*angstrom)*hartree\n",
    "elec_static_enhanced"
   ]
  },
  {
   "cell_type": "markdown",
   "metadata": {},
   "source": [
    "The calculated electrostatic energy from the enhanced dipole system is $0.02583$ Hartree which is does not correspond to the actual total energy of the system. The real total energy is negative, due to the strong negative contributions of the induction energy. The enhanced dipole form question 2 is not able to reproduce the enhancement in induction due to the the presence of the ion. It is clear, that the enhanced dipole method only works for the system for which the dipoles were calculated and can not easily be extended to systems with altered components. "
   ]
  },
  {
   "cell_type": "markdown",
   "metadata": {},
   "source": [
    "## Question 5"
   ]
  },
  {
   "cell_type": "markdown",
   "metadata": {},
   "source": [
    "In this question, a 12-6 Lennard-Jones potential is added to the system of 5 dipoles as described in question 1. This additional potential is incorporated in the code as a new function which calculates the total energy due to the Lennard-Jones interaction in the sytem. The well depth is set to $\\epsilon_0=1.08\\times 10^{-21}$ and the molecule size is set to $\\sigma=3.165$ Angstroms. The function for calculating the Lennard-Jones energy is shown below."
   ]
  },
  {
   "cell_type": "code",
   "execution_count": 155,
   "metadata": {},
   "outputs": [],
   "source": [
    "def calc_lj_energy(mol_orig,R):\n",
    "    mol=copy.deepcopy(mol_orig)\n",
    "    #scale intermolecular separation\n",
    "    for molecule in mol:\n",
    "            molecule[0]=molecule[0]*R\n",
    "    #initialize list of energies \n",
    "    lj_energy=[0]*len(mol_orig)\n",
    "    for index in range(0,len(mol)):\n",
    "                #create new list and remove current molecule\n",
    "                temp_mol=copy.deepcopy(mol)\n",
    "                del temp_mol[:index+1]\n",
    "                lj_e_molecule=0\n",
    "                #loop over other molecules to find net force \n",
    "                for molecule in temp_mol:\n",
    "                    r_z=molecule[0]-mol[index][0] #calc seperation\n",
    "                    # calc lennard jones energy\n",
    "                    lj_e_molecule+=4*lj_epsilon*((lj_sigma/abs(r_z))**12-\\\n",
    "                                                     (lj_sigma/abs(r_z))**6)\n",
    "\n",
    "                lj_energy[index]=lj_e_molecule\n",
    "    return sum(lj_energy)\n",
    "    "
   ]
  },
  {
   "cell_type": "markdown",
   "metadata": {},
   "source": [
    "Now need to generate the energies at a range of R values between 2.5 and 4.5 Angstroms. "
   ]
  },
  {
   "cell_type": "code",
   "execution_count": 156,
   "metadata": {},
   "outputs": [],
   "source": [
    "# Generate energies at different R values \n",
    "mol_new=[[0,mu_0,0],[1,mu_0,0],[2,mu_0,0],[3,mu_0,0],[4,mu_0,0]]\n",
    "R=np.arange(2.5,4.5,0.05)*angstrom\n",
    "e1=[]\n",
    "i1=[]\n",
    "lj1=[]\n",
    "for r in R:\n",
    "    e1.append(float(dipoles_and_induction(mol_new,r)[-1][0]*hartree))\n",
    "    i1.append(float(dipoles_and_induction(mol_new,r)[-1][1]*hartree))  \n",
    "    lj1.append(float(dipoles_and_induction(mol_new,r)[-1][2]*hartree))\n",
    "tot1=np.array(e1)+np.array(i1)+np.array(lj1)\n"
   ]
  },
  {
   "cell_type": "markdown",
   "metadata": {},
   "source": [
    "These energies are now plotted below. Total energy, shown in red, is negative and tends to zero as the intermolecular separation is increased. This is as expected because the interactions between dipoles become weaker at longer distances. The Lennar-Jones energy is mostly positive and only dips below zero energy very briefly. This is because the well depth parameter $\\epsilon_0$ is set to a very small value. In the range of separations studied here, the electrostatic energy dominates and the Lennard-Jones does not change the system energetics significantly. "
   ]
  },
  {
   "cell_type": "code",
   "execution_count": 157,
   "metadata": {},
   "outputs": [
    {
     "data": {
      "text/plain": [
       "<matplotlib.legend.Legend at 0x11ae40b70>"
      ]
     },
     "execution_count": 157,
     "metadata": {},
     "output_type": "execute_result"
    },
    {
     "data": {
      "image/png": "[encoded data removed]",
      "text/plain": [
       "<Figure size 432x288 with 1 Axes>"
      ]
     },
     "metadata": {
      "needs_background": "light"
     },
     "output_type": "display_data"
    }
   ],
   "source": [
    "# Plot Energies\n",
    "plt.title(\"Energies with Separation\")\n",
    "plt.xlabel(\"Intermolecular Separation, Angstrom\")\n",
    "plt.ylabel('Energy, Hartree')\n",
    "plt.plot(R/angstrom,e1)\n",
    "plt.plot(R/angstrom,i1)\n",
    "plt.plot(R/angstrom,lj1)\n",
    "plt.plot(R/angstrom,tot1)\n",
    "plt.legend(['electrostatic','induction','lennard-jones','total'])"
   ]
  },
  {
   "cell_type": "markdown",
   "metadata": {},
   "source": [
    "Out of curiosity, the energies for the system with the positive ion are calculated and plotted below. When the ion is included, the total energy is positive at all distances and more interesting behavior is observed. The total energy peaks at about 3.2 Angstroms and then falls off. This occurs due to the sharpness of the fall off in induction energy compared to the electrostatic energy which dominates at larger separations.  "
   ]
  },
  {
   "cell_type": "code",
   "execution_count": 159,
   "metadata": {},
   "outputs": [],
   "source": [
    "# Generate energies at different R values \n",
    "mol_new=[[-1,0.0,1.0*e],[0,mu_0,0],[1,mu_0,0],[2,mu_0,0],[3,mu_0,0],[4,mu_0,0]]\n",
    "R=np.arange(2.5,4.5,0.05)*angstrom\n",
    "e2=[]\n",
    "i2=[]\n",
    "lj2=[]\n",
    "for r in R:\n",
    "    r=float(r)\n",
    "    e2.append(float(dipoles_and_induction(mol_new,r)[-1][0]*hartree))\n",
    "    i2.append(float(dipoles_and_induction(mol_new,r)[-1][1]*hartree))  \n",
    "    lj2.append(float(dipoles_and_induction(mol_new,r)[-1][2]*hartree))\n",
    "tot2=np.array(e2)+np.array(i2)+np.array(lj2)"
   ]
  },
  {
   "cell_type": "code",
   "execution_count": 160,
   "metadata": {},
   "outputs": [
    {
     "data": {
      "text/plain": [
       "<matplotlib.legend.Legend at 0x11b156400>"
      ]
     },
     "execution_count": 160,
     "metadata": {},
     "output_type": "execute_result"
    },
    {
     "data": {
      "image/png": "[encoded data removed]",
      "text/plain": [
       "<Figure size 432x288 with 1 Axes>"
      ]
     },
     "metadata": {
      "needs_background": "light"
     },
     "output_type": "display_data"
    }
   ],
   "source": [
    "# Plot Energies\n",
    "plt.title(\"Energies with Separation, with Ion\")\n",
    "plt.xlabel(\"Intermolecular Separation, Angstrom\")\n",
    "plt.ylabel('Energy, Hartree')\n",
    "plt.plot(R/angstrom,e2)\n",
    "plt.plot(R/angstrom,i2)\n",
    "plt.plot(R/angstrom,lj2)\n",
    "plt.plot(R/angstrom,tot2)\n",
    "plt.legend(['electrostatic','induction','lennard-jones','total'])"
   ]
  },
  {
   "cell_type": "code",
   "execution_count": null,
   "metadata": {},
   "outputs": [],
   "source": []
  }
 ],
 "metadata": {
  "kernelspec": {
   "display_name": "Python 3",
   "language": "python",
   "name": "python3"
  },
  "language_info": {
   "codemirror_mode": {
    "name": "ipython",
    "version": 3
   },
   "file_extension": ".py",
   "mimetype": "text/x-python",
   "name": "python",
   "nbconvert_exporter": "python",
   "pygments_lexer": "ipython3",
   "version": "3.7.3"
  }
 },
 "nbformat": 4,
 "nbformat_minor": 2
}
